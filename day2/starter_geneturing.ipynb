{
 "cells": [
  {
   "cell_type": "markdown",
   "id": "59a8b93f",
   "metadata": {
    "tags": [
     "skip"
    ]
   },
   "source": [
    "# Starter Notebook for GeneTuring Few-shot Evaluation"
   ]
  },
  {
   "cell_type": "markdown",
   "id": "7260d323",
   "metadata": {
    "tags": [
     "skip"
    ]
   },
   "source": [
    "Let's start of by implementing a basic harness to evaluate the Geneturing dataset using Ollama with a Few-Shot prompting strategy to evaluate the performance of these models before implementing the tool-using strategies outlined in the GeneGPT paper.\n",
    "\n",
    "As with most benchmarking code using pretrained models, our notebook will following typical outline of:\n",
    "\n",
    "1. **Imports**\n",
    "2. **Configuration**\n",
    "3. **Data Loading**\n",
    "4. **Model Specification**\n",
    "5. **Metrics**\n",
    "6. **Evaluation Loop**\n",
    "7. **Analysis**"
   ]
  },
  {
   "cell_type": "markdown",
   "id": "19ecb4f5",
   "metadata": {
    "tags": []
   },
   "source": [
    "## 1. Imports"
   ]
  },
  {
   "cell_type": "markdown",
   "id": "6db83b1e",
   "metadata": {
    "tags": [
     "skip"
    ]
   },
   "source": [
    "Good hygiene for Jupyter notebooks includes placing all of the imports at the top of the notebook. This makes it easier to understand what dependencies are needed to run the notebook for new users and mirrors good practices for Python scripts."
   ]
  },
  {
   "cell_type": "code",
   "execution_count": 1,
   "id": "fb9107c5",
   "metadata": {},
   "outputs": [],
   "source": [
    "# 1.1 Place imports here\n",
    "from typing import List, Optional\n",
    "import re\n",
    "import os\n",
    "from dotenv import load_dotenv\n",
    "from openai import AzureOpenAI\n",
    "from collections import defaultdict\n",
    "from dataclasses import dataclass\n",
    "import json\n",
    "import pandas as pd  # Ensure pandas is imported\n",
    "from tqdm import tqdm \n",
    "from typing import List, Optional\n",
    "from dataclasses import dataclass\n",
    "import matplotlib.pyplot as plt"
   ]
  },
  {
   "cell_type": "markdown",
   "id": "26c15925",
   "metadata": {},
   "source": [
    "## 2. Configuration"
   ]
  },
  {
   "cell_type": "markdown",
   "id": "22cf9042",
   "metadata": {
    "tags": [
     "skip"
    ]
   },
   "source": [
    "Also, let's create a section that is specific to the configuration of the run. This will make it easier to change the configuration of the run without hunting for hard-coded values sprinkled throughout the code and makes it easier for others to understand the configuration of the run.\n",
    "\n",
    "We will leave it empty at the moment, but we will come back and fill it in as we identify global configuration options that we need to implement the code."
   ]
  },
  {
   "cell_type": "code",
   "execution_count": 2,
   "id": "71d543d4",
   "metadata": {
    "tags": [
     "main"
    ]
   },
   "outputs": [],
   "source": [
    "# 2.1 Data Configuration\n",
    "DATASET = \"geneturing\"\n",
    "#DATASET = \"genehop\"\n",
    "DATA_PATH = f\"data/{DATASET}.json\""
   ]
  },
  {
   "cell_type": "code",
   "execution_count": 3,
   "id": "82e42308",
   "metadata": {
    "tags": [
     "main"
    ]
   },
   "outputs": [],
   "source": [
    "# 2.2 Model Configuration\n",
    "# Load environment variables from .env file\n",
    "load_dotenv()\n",
    "\n",
    "# Set up OpenAI API client\n",
    "# NOTE: HERE we dont ever save the API key as a variable so it never gets printed\n",
    "api_base = os.getenv(\"AZURE_OPENAI_ENDPOINT\")\n",
    "api_version = os.getenv(\"AZURE_OPENAI_API_VERSION\")\n",
    "api_deployment = os.getenv(\"AZURE_OPENAI_DEPLOYMENT_NAME\")"
   ]
  },
  {
   "cell_type": "code",
   "execution_count": 4,
   "id": "1ac0d904",
   "metadata": {
    "tags": [
     "main"
    ]
   },
   "outputs": [],
   "source": [
    "# 2.3 Evaluation and Logging Configuration\n",
    "RESULT_FILE = f\"{DATASET}_results.csv\""
   ]
  },
  {
   "cell_type": "markdown",
   "id": "c1904443",
   "metadata": {},
   "source": [
    "## 3. Data Loading"
   ]
  },
  {
   "cell_type": "markdown",
   "id": "f48d7a1f",
   "metadata": {
    "tags": [
     "skip"
    ]
   },
   "source": [
    "In this section we need to load the data that we will be using for our evaluation. \n",
    "\n",
    "The JSON file at `data/gene_turing.json` contains a dictionary of dictionaries. At the top level, the keys are the names of the tasks. Within each task, there are several key-value pairs where the keys are the questions and the values are the answers.\n",
    "\n",
    "Below is one example for each of the 9 tasks in the dataset:\n",
    "\n",
    "```json\n",
    "{\n",
    "    \"Gene alias\": {\n",
    "        \"What is the official gene symbol of LMP10?\": \"PSMB10\"\n",
    "    },\n",
    "    \"Gene disease association\": {\n",
    "        \"What are genes related to Hemolytic anemia due to phosphofructokinase deficiency?\": \"PFKL\"\n",
    "    },\n",
    "    \"Gene location\": {\n",
    "        \"Which chromosome is FAM66D gene located on human genome?\": \"chr8\"\n",
    "    },\n",
    "    \"Human genome DNA aligment\": {\n",
    "        \"Align the DNA sequence to the human genome:ATTCTGCCTTTAGTAATTTGATGACAGAGACTTCTTGGGAACCACAGCCAGGGAGCCACCCTTTACTCCACCAACAGGTGGCTTATATCCAATCTGAGAAAGAAAGAAAAAAAAAAAAGTATTTCTCT\": \"chr15:91950805-91950932\",\n",
    "    },\n",
    "    \"Multi-species DNA aligment\": {\n",
    "        \"Which organism does the DNA sequence come from:AGGGGCAGCAAACACCGGGACACACCCATTCGTGCACTAATCAGAAACTTTTTTTTCTCAAATAATTCAAACAATCAAAATTGGTTTTTTCGAGCAAGGTGGGAAATTTTTCGAT\": \"worm\",\n",
    "    },\n",
    "    \"Gene name conversion\": {\n",
    "        \"Convert ENSG00000215251 to official gene symbol.\": \"FASTKD5\",\n",
    "    },\n",
    "    \"Protein-coding genes\": {\n",
    "        \"Is ATP5F1EP2 a protein-coding gene?\": \"NA\",\n",
    "    },\n",
    "    \"Gene SNP association\": {\n",
    "        \"Which gene is SNP rs1217074595 associated with?\": \"LINC01270\",\n",
    "    },\n",
    "    \"SNP location\": {\n",
    "        \"Which chromosome does SNP rs1430464868 locate on human genome?\": \"chr13\",\n",
    "    }\n",
    "}\n",
    "```"
   ]
  },
  {
   "cell_type": "markdown",
   "id": "b61e217f",
   "metadata": {
    "tags": [
     "skip"
    ]
   },
   "source": [
    "\n",
    "We need to reformat this into a pandas dataframe with the following columns:\n",
    "- `id`: A serial ID number we will assign to each example (int)\n",
    "- `task`: The name of the task (str)\n",
    "- `question`: The question for the example (str)\n",
    "- `answer`: The answer for the example (str)\n",
    "\n",
    "The final dataframe we will create should look like this:\n",
    "\n",
    "| id | task | question | answer |\n",
    "|----|------|----------|--------|\n",
    "| 0 | Task1 | Question1 | Answer1 |\n",
    "| 1 | Task1 | Question2 | Answer2 |\n",
    "| 2 | Task2 | Question1 | Answer1 |\n",
    "| 3 | Task2 | Question2 | Answer2 |"
   ]
  },
  {
   "cell_type": "code",
   "execution_count": 5,
   "id": "2c2b9c4a",
   "metadata": {
    "tags": [
     "main"
    ]
   },
   "outputs": [
    {
     "name": "stdout",
     "output_type": "stream",
     "text": [
      "JSON file loaded successfully!\n",
      "\n",
      "Tasks found:\n",
      "Protein-coding genes\n",
      "Gene SNP association\n",
      "Gene alias\n",
      "Gene name conversion\n",
      "SNP location\n",
      "Human genome DNA aligment\n",
      "Gene disease association\n",
      "Multi-species DNA aligment\n",
      "Gene location\n"
     ]
    }
   ],
   "source": [
    "# 3.1 Load the JSON file\n",
    "# Load the data here\n",
    "try:\n",
    "    with open(DATA_PATH, 'r') as f:\n",
    "        data = json.load(f)\n",
    "    print(\"JSON file loaded successfully!\")\n",
    "except FileNotFoundError:\n",
    "    print(f\"Error: The file {DATA_PATH} was not found.\")\n",
    "    data = {} # Initialize data as an empty dict to prevent further errors\n",
    "except json.JSONDecodeError:\n",
    "    print(f\"Error: Could not decode JSON from the file {DATA_PATH}.\")\n",
    "    data = {}\n",
    "\n",
    "# Build the TASKS variable here\n",
    "TASKS = set()\n",
    "if data: # Check if data was loaded successfully\n",
    "    for task_name in data.keys():\n",
    "        TASKS.add(task_name)\n",
    "# You can print the TASKS to verify\n",
    "print(\"\\nTasks found:\")\n",
    "for task in TASKS:\n",
    "    print(task)"
   ]
  },
  {
   "cell_type": "code",
   "execution_count": 23,
   "id": "a413a28e",
   "metadata": {},
   "outputs": [],
   "source": [
    "def collect_rows(data):\n",
    "    rows = [\n",
    "        {'task': task_name, 'question': question, 'answer': answer}\n",
    "        for task_name, task_data in data.items()\n",
    "        for question, answer in task_data.items()\n",
    "    ]\n",
    "    return rows\n",
    "\n",
    "rows = collect_rows(data)\n"
   ]
  },
  {
   "cell_type": "code",
   "execution_count": 7,
   "id": "fe9a5062",
   "metadata": {
    "tags": [
     "main"
    ]
   },
   "outputs": [],
   "source": [
    "# 3.2 Iterate through the JSON data recursively to collect each of the rows into a list\n",
    "#     Each row should have a dictionary with keys of the columsn in the table above\n",
    "\n",
    "\n"
   ]
  },
  {
   "cell_type": "code",
   "execution_count": 24,
   "id": "b43c7098",
   "metadata": {},
   "outputs": [
    {
     "name": "stdout",
     "output_type": "stream",
     "text": [
      "[{'task': 'Gene alias', 'question': 'What is the official gene symbol of LMP10?', 'answer': 'PSMB10'}, {'task': 'Gene alias', 'question': 'What is the official gene symbol of SNAT6?', 'answer': 'SLC38A6'}, {'task': 'Gene alias', 'question': 'What is the official gene symbol of IMD20?', 'answer': 'FCGR3A'}, {'task': 'Gene alias', 'question': 'What is the official gene symbol of C20orf195?', 'answer': 'FNDC11'}, {'task': 'Gene alias', 'question': 'What is the official gene symbol of CXorf40B?', 'answer': 'EOLA2'}, {'task': 'Gene alias', 'question': 'What is the official gene symbol of QSCN6L1?', 'answer': 'QSOX2'}, {'task': 'Gene alias', 'question': 'What is the official gene symbol of OR11-86?', 'answer': 'OR10A2'}, {'task': 'Gene alias', 'question': 'What is the official gene symbol of NPAP60L?', 'answer': 'NUP50'}, {'task': 'Gene alias', 'question': 'What is the official gene symbol of AF10?', 'answer': 'MLLT10'}, {'task': 'Gene alias', 'question': 'What is the official gene symbol of bMRP63?', 'answer': 'MRPL57'}, {'task': 'Gene alias', 'question': 'What is the official gene symbol of HsT1192?', 'answer': 'SYT4'}, {'task': 'Gene alias', 'question': 'What is the official gene symbol of ZNF482?', 'answer': 'ZBTB6'}, {'task': 'Gene alias', 'question': 'What is the official gene symbol of PTH1?', 'answer': 'PTH'}, {'task': 'Gene alias', 'question': 'What is the official gene symbol of AGTIL?', 'answer': 'ASIP'}, {'task': 'Gene alias', 'question': 'What is the official gene symbol of LEP9?', 'answer': 'LCE2A'}, {'task': 'Gene alias', 'question': 'What is the official gene symbol of SEP3?', 'answer': 'SEPTIN3'}, {'task': 'Gene alias', 'question': 'What is the official gene symbol of FFDD3?', 'answer': 'TWIST2'}, {'task': 'Gene alias', 'question': 'What is the official gene symbol of C6orf186?', 'answer': 'METTL24'}, {'task': 'Gene alias', 'question': 'What is the official gene symbol of hCAP?', 'answer': 'RNGTT'}, {'task': 'Gene alias', 'question': 'What is the official gene symbol of CKBBP1?', 'answer': 'RNF7'}, {'task': 'Gene alias', 'question': 'What is the official gene symbol of TFA?', 'answer': 'F3'}, {'task': 'Gene alias', 'question': 'What is the official gene symbol of BMSC-MCP?', 'answer': 'SLC25A33'}, {'task': 'Gene alias', 'question': 'What is the official gene symbol of PCH3?', 'answer': 'PCLO'}, {'task': 'Gene alias', 'question': 'What is the official gene symbol of OR11-75?', 'answer': 'OR56A1'}, {'task': 'Gene alias', 'question': 'What is the official gene symbol of RBAP1?', 'answer': 'E2F1'}, {'task': 'Gene alias', 'question': 'What is the official gene symbol of DCSCRIPT?', 'answer': 'ZNF366'}, {'task': 'Gene alias', 'question': 'What is the official gene symbol of 15-LOX?', 'answer': 'ALOX15'}, {'task': 'Gene alias', 'question': 'What is the official gene symbol of CT116?', 'answer': 'LYPD6B'}, {'task': 'Gene alias', 'question': 'What is the official gene symbol of PKCL?', 'answer': 'PRKCH'}, {'task': 'Gene alias', 'question': 'What is the official gene symbol of SGEF?', 'answer': 'ARHGEF26'}, {'task': 'Gene alias', 'question': 'What is the official gene symbol of CTGLF6?', 'answer': 'AGAP9'}, {'task': 'Gene alias', 'question': 'What is the official gene symbol of FAP9?', 'answer': 'IFT22'}, {'task': 'Gene alias', 'question': 'What is the official gene symbol of MPS4B?', 'answer': 'GLB1'}, {'task': 'Gene alias', 'question': 'What is the official gene symbol of LSDMCA2?', 'answer': 'COX7B'}, {'task': 'Gene alias', 'question': 'What is the official gene symbol of PLK-5?', 'answer': 'PLK5'}, {'task': 'Gene alias', 'question': 'What is the official gene symbol of C20orf86?', 'answer': 'ANKRD60'}, {'task': 'Gene alias', 'question': 'What is the official gene symbol of GalNAc-T4?', 'answer': 'POC1B-GALNT4'}, {'task': 'Gene alias', 'question': 'What is the official gene symbol of NEDCHS?', 'answer': 'INTS8'}, {'task': 'Gene alias', 'question': 'What is the official gene symbol of PCPB?', 'answer': 'CPB2'}, {'task': 'Gene alias', 'question': 'What is the official gene symbol of PFDN3?', 'answer': 'VBP1'}, {'task': 'Gene alias', 'question': 'What is the official gene symbol of TSH2B?', 'answer': 'H2BC1'}, {'task': 'Gene alias', 'question': 'What is the official gene symbol of RSG1?', 'answer': 'CPLANE2'}, {'task': 'Gene alias', 'question': 'What is the official gene symbol of M12.219?', 'answer': 'ADAMDEC1'}, {'task': 'Gene alias', 'question': 'What is the official gene symbol of beta3Gn-T8?', 'answer': 'B3GNT8'}, {'task': 'Gene alias', 'question': 'What is the official gene symbol of ASV?', 'answer': 'SRC'}, {'task': 'Gene alias', 'question': 'What is the official gene symbol of C11orf27?', 'answer': 'UBTFL1'}, {'task': 'Gene alias', 'question': 'What is the official gene symbol of GCS1?', 'answer': 'MOGS'}, {'task': 'Gene alias', 'question': 'What is the official gene symbol of FAM214B?', 'answer': 'ATOSB'}, {'task': 'Gene alias', 'question': 'What is the official gene symbol of CTTNBP1?', 'answer': 'SHANK2'}, {'task': 'Gene alias', 'question': 'What is the official gene symbol of PTP-SL?', 'answer': 'PTPRR'}, {'task': 'Gene disease association', 'question': 'What are genes related to Hemolytic anemia due to phosphofructokinase deficiency?', 'answer': 'PFKL'}, {'task': 'Gene disease association', 'question': 'What are genes related to Distal renal tubular acidosis?', 'answer': 'SLC4A1, ATP6V0A4'}, {'task': 'Gene disease association', 'question': 'What are genes related to Pseudohypoparathyroidism Ic?', 'answer': 'GNAS'}, {'task': 'Gene disease association', 'question': 'What are genes related to Glycine N-methyltransferase deficiency?', 'answer': 'GNMT'}, {'task': 'Gene disease association', 'question': 'What are genes related to Meesmann corneal dystrophy?', 'answer': 'KRT12, KRT3'}, {'task': 'Gene disease association', 'question': 'What are genes related to Chronic atrial and intestinal dysrhythmia?', 'answer': 'SGO1'}, {'task': 'Gene disease association', 'question': 'What are genes related to Sensorineural deafness with mild renal dysfunction?', 'answer': 'BSND'}, {'task': 'Gene disease association', 'question': 'What are genes related to Bile acid malabsorption?', 'answer': 'SLC10A2, SLC51B'}, {'task': 'Gene disease association', 'question': 'What are genes related to Immunodeficiency due to defect in MAPBP-interacting protein?', 'answer': 'LAMTOR2'}, {'task': 'Gene disease association', 'question': 'What are genes related to Currarino syndrome?', 'answer': 'MNX1'}, {'task': 'Gene disease association', 'question': 'What are genes related to Intervertebral disc disease?', 'answer': 'COL9A3'}, {'task': 'Gene disease association', 'question': 'What are genes related to Otofaciocervical syndrome?', 'answer': 'EYA1, PAX1'}, {'task': 'Gene disease association', 'question': 'What are genes related to Brody myopathy?', 'answer': 'ATP2A1'}, {'task': 'Gene disease association', 'question': 'What are genes related to Neurodevelopmental disorder with gait disturbance?', 'answer': 'TCEAL1'}, {'task': 'Gene disease association', 'question': 'What are genes related to Mitochondrial DNA depletion syndrome 4A Alpers type?', 'answer': 'POLG'}, {'task': 'Gene disease association', 'question': 'What are genes related to Nephropathy due to CFHR5 deficiency?', 'answer': 'CFHR5'}, {'task': 'Gene disease association', 'question': 'What are genes related to Achromatopsia?', 'answer': 'CNGA3, CNGB3, GNAT2, PDE6H, ATF6'}, {'task': 'Gene disease association', 'question': 'What are genes related to Hyperphenylalaninemia?', 'answer': 'PTS, GCH1, QDPR, PCBD1, DNAJC12, PAH'}, {'task': 'Gene disease association', 'question': 'What are genes related to EDICT syndrome?', 'answer': 'MIR184'}, {'task': 'Gene disease association', 'question': 'What are genes related to Gastrointestinal defects and immunodeficiency syndrome?', 'answer': 'PI4KA, TTC7A'}, {'task': 'Gene disease association', 'question': 'What are genes related to Cleft palate with ankyloglossia?', 'answer': 'TBX22'}, {'task': 'Gene disease association', 'question': 'What are genes related to Neurodevelopmental disorder with nonspecific brain abnormalities and with or without seizures?', 'answer': 'DLL1'}, {'task': 'Gene disease association', 'question': 'What are genes related to Spondylocarpotarsal synostosis syndrome?', 'answer': 'FLNB'}, {'task': 'Gene disease association', 'question': 'What are genes related to Haim-Munk syndrome?', 'answer': 'CTSC'}, {'task': 'Gene disease association', 'question': 'What are genes related to Sialidosis?', 'answer': 'NEU1'}, {'task': 'Gene disease association', 'question': 'What are genes related to Siddiqi syndrome?', 'answer': 'FITM2'}, {'task': 'Gene disease association', 'question': 'What are genes related to Corneal fleck dystrophy?', 'answer': 'PIKFYVE'}, {'task': 'Gene disease association', 'question': 'What are genes related to Liver failure?', 'answer': 'TRMU'}, {'task': 'Gene disease association', 'question': 'What are genes related to Proteasome-associated autoinflammatory syndrome?', 'answer': 'PSMB9, PSMG2, POMP, PSMB10'}, {'task': 'Gene disease association', 'question': 'What are genes related to Orofaciodigital syndrome XIV?', 'answer': 'C2CD3'}, {'task': 'Gene disease association', 'question': 'What are genes related to Trichoepithelioma?', 'answer': 'CYLD'}, {'task': 'Gene disease association', 'question': 'What are genes related to Medullary thyroid carcinoma?', 'answer': 'RET'}, {'task': 'Gene disease association', 'question': 'What are genes related to Type diabetes mellitus?', 'answer': 'HNF1B, IL6, GPD2, HMGA1, IRS1, NEUROD1, IL6'}, {'task': 'Gene disease association', 'question': 'What are genes related to Buschke-Ollendorff syndrome?', 'answer': 'LEMD3'}, {'task': 'Gene disease association', 'question': 'What are genes related to Vascular malformation?', 'answer': 'ELMO2'}, {'task': 'Gene disease association', 'question': 'What are genes related to Acrocallosal syndrome?', 'answer': 'KIF7'}, {'task': 'Gene disease association', 'question': 'What are genes related to Congenital disorder of deglycosylation?', 'answer': 'NGLY1, MAN2C1'}, {'task': 'Gene disease association', 'question': 'What are genes related to Spinal muscular atrophy with congenital bone fractures?', 'answer': 'TRIP4, ASCC1'}, {'task': 'Gene disease association', 'question': 'What are genes related to B-cell immunodeficiency?', 'answer': 'TOP2B'}, {'task': 'Gene disease association', 'question': 'What are genes related to Immunodeficiency with inflammatory disease and congenital thrombocytopenia?', 'answer': 'ARPC1B'}, {'task': 'Gene disease association', 'question': 'What are genes related to Split-foot malformation with mesoaxial polydactyly?', 'answer': 'MAP3K20'}, {'task': 'Gene disease association', 'question': 'What are genes related to Pigmented nodular adrenocortical disease?', 'answer': 'PRKAR1A, PDE11A, PDE8B'}, {'task': 'Gene disease association', 'question': 'What are genes related to Superoxide dismutase?', 'answer': 'SOD3'}, {'task': 'Gene disease association', 'question': 'What are genes related to Leukoencephalopathy with dystonia and motor neuropathy?', 'answer': 'SCP2'}, {'task': 'Gene disease association', 'question': 'What are genes related to Intracranial hemorrhage in brain cerebrovascular malformations?', 'answer': 'IL6'}, {'task': 'Gene disease association', 'question': 'What are genes related to Multiple system atrophy?', 'answer': 'COQ2'}, {'task': 'Gene disease association', 'question': 'What are genes related to Cone dystrophy?', 'answer': 'PDE6C, GUCA1A'}, {'task': 'Gene disease association', 'question': 'What are genes related to Holt-Oram syndrome?', 'answer': 'TBX5'}, {'task': 'Gene disease association', 'question': 'What are genes related to Lichtenstein-Knorr syndrome?', 'answer': 'SLC9A1'}, {'task': 'Gene disease association', 'question': 'What are genes related to Ablepharon-macrostomia syndrome?', 'answer': 'TWIST2'}, {'task': 'Gene location', 'question': 'Which chromosome is FAM66D gene located on human genome?', 'answer': 'chr8'}, {'task': 'Gene location', 'question': 'Which chromosome is TTTY7 gene located on human genome?', 'answer': 'chrY'}, {'task': 'Gene location', 'question': 'Which chromosome is LA16c-329F2.2 gene located on human genome?', 'answer': 'chr16'}, {'task': 'Gene location', 'question': 'Which chromosome is RGS16 gene located on human genome?', 'answer': 'chr1'}, {'task': 'Gene location', 'question': 'Which chromosome is FOXL2NB gene located on human genome?', 'answer': 'chr3'}, {'task': 'Gene location', 'question': 'Which chromosome is RP11-17A4.3 gene located on human genome?', 'answer': 'chr8'}, {'task': 'Gene location', 'question': 'Which chromosome is EML3 gene located on human genome?', 'answer': 'chr11'}, {'task': 'Gene location', 'question': 'Which chromosome is LPAR2 gene located on human genome?', 'answer': 'chr19'}, {'task': 'Gene location', 'question': 'Which chromosome is ENSG10010137169.1 gene located on human genome?', 'answer': 'chr4'}, {'task': 'Gene location', 'question': 'Which chromosome is AC018712.2 gene located on human genome?', 'answer': 'chr2'}, {'task': 'Gene location', 'question': 'Which chromosome is RRS1 gene located on human genome?', 'answer': 'chr8'}, {'task': 'Gene location', 'question': 'Which chromosome is LINC02599 gene located on human genome?', 'answer': 'chr8'}, {'task': 'Gene location', 'question': 'Which chromosome is ZNF117 gene located on human genome?', 'answer': 'chr7'}, {'task': 'Gene location', 'question': 'Which chromosome is RP11-829H16.3 gene located on human genome?', 'answer': 'chr14'}, {'task': 'Gene location', 'question': 'Which chromosome is RN7SKP265 gene located on human genome?', 'answer': 'chr3'}, {'task': 'Gene location', 'question': 'Which chromosome is RP11-1102P22.1 gene located on human genome?', 'answer': 'chr16'}, {'task': 'Gene location', 'question': 'Which chromosome is AC018892.8 gene located on human genome?', 'answer': 'chr2'}, {'task': 'Gene location', 'question': 'Which chromosome is RP11-255A11.4 gene located on human genome?', 'answer': 'chr9'}, {'task': 'Gene location', 'question': 'Which chromosome is NPTN gene located on human genome?', 'answer': 'chr15'}, {'task': 'Gene location', 'question': 'Which chromosome is RP11-123M21.2 gene located on human genome?', 'answer': 'chr12'}, {'task': 'Gene location', 'question': 'Which chromosome is ZNF574 gene located on human genome?', 'answer': 'chr19'}, {'task': 'Gene location', 'question': 'Which chromosome is RNU6-1143P gene located on human genome?', 'answer': 'chr11'}, {'task': 'Gene location', 'question': 'Which chromosome is RP11-303E16.8 gene located on human genome?', 'answer': 'chr16'}, {'task': 'Gene location', 'question': 'Which chromosome is SCO2 gene located on human genome?', 'answer': 'chr22'}, {'task': 'Gene location', 'question': 'Which chromosome is ERCC8 gene located on human genome?', 'answer': 'chr5'}, {'task': 'Gene location', 'question': 'Which chromosome is ENSG10010137820.1 gene located on human genome?', 'answer': 'chr2'}, {'task': 'Gene location', 'question': 'Which chromosome is RP11-215H18.5 gene located on human genome?', 'answer': 'chr11'}, {'task': 'Gene location', 'question': 'Which chromosome is RPS26P3 gene located on human genome?', 'answer': 'chr9'}, {'task': 'Gene location', 'question': 'Which chromosome is RN7SL465P gene located on human genome?', 'answer': 'chr6'}, {'task': 'Gene location', 'question': 'Which chromosome is TRGC2 gene located on human genome?', 'answer': 'chr7'}, {'task': 'Gene location', 'question': 'Which chromosome is RN7SL689P gene located on human genome?', 'answer': 'chr5'}, {'task': 'Gene location', 'question': 'Which chromosome is CTB-180A7.6 gene located on human genome?', 'answer': 'chr19'}, {'task': 'Gene location', 'question': 'Which chromosome is MTND2P25 gene located on human genome?', 'answer': 'chrX'}, {'task': 'Gene location', 'question': 'Which chromosome is MTND6P21 gene located on human genome?', 'answer': 'chr21'}, {'task': 'Gene location', 'question': 'Which chromosome is UBE2D4 gene located on human genome?', 'answer': 'chr7'}, {'task': 'Gene location', 'question': 'Which chromosome is SRD5A1P1 gene located on human genome?', 'answer': 'chrX'}, {'task': 'Gene location', 'question': 'Which chromosome is CTD-2272D18.2 gene located on human genome?', 'answer': 'chr8'}, {'task': 'Gene location', 'question': 'Which chromosome is SNORD4B gene located on human genome?', 'answer': 'chr17'}, {'task': 'Gene location', 'question': 'Which chromosome is AC006042.8 gene located on human genome?', 'answer': 'chr7'}, {'task': 'Gene location', 'question': 'Which chromosome is SLAIN2 gene located on human genome?', 'answer': 'chr4'}, {'task': 'Gene location', 'question': 'Which chromosome is RP11-173H9.2 gene located on human genome?', 'answer': 'chr2'}, {'task': 'Gene location', 'question': 'Which chromosome is AC093802.1 gene located on human genome?', 'answer': 'chr2'}, {'task': 'Gene location', 'question': 'Which chromosome is RP4-612B18.1 gene located on human genome?', 'answer': 'chr1'}, {'task': 'Gene location', 'question': 'Which chromosome is AKIRIN1P2 gene located on human genome?', 'answer': 'chrX'}, {'task': 'Gene location', 'question': 'Which chromosome is SIGLEC19P gene located on human genome?', 'answer': 'chr19'}, {'task': 'Gene location', 'question': 'Which chromosome is RP11-179D22.1 gene located on human genome?', 'answer': 'chr9'}, {'task': 'Gene location', 'question': 'Which chromosome is RPS3AP46 gene located on human genome?', 'answer': 'chr14'}, {'task': 'Gene location', 'question': 'Which chromosome is IFRD1 gene located on human genome?', 'answer': 'chr7'}, {'task': 'Gene location', 'question': 'Which chromosome is RP11-1299A16.3 gene located on human genome?', 'answer': 'chr4'}, {'task': 'Gene location', 'question': 'Which chromosome is OR51H2P gene located on human genome?', 'answer': 'chr11'}, {'task': 'Human genome DNA aligment', 'question': 'Align the DNA sequence to the human genome:ATTCTGCCTTTAGTAATTTGATGACAGAGACTTCTTGGGAACCACAGCCAGGGAGCCACCCTTTACTCCACCAACAGGTGGCTTATATCCAATCTGAGAAAGAAAGAAAAAAAAAAAAGTATTTCTCT', 'answer': 'chr15:91950805-91950932'}, {'task': 'Human genome DNA aligment', 'question': 'Align the DNA sequence to the human genome:GGACAGCTGAGATCACATCAAGGATTCCAGAAAGAATTGGCACAGGATCATTCAAGATGCATCTCTCCGTTGCCCCTGTTCCTGGCTTTCCTTCAACTTCCTCAAAGGGGACATCATTTCGGAGTTTGGCTTCCA', 'answer': 'chr8:7081648-7081782'}, {'task': 'Human genome DNA aligment', 'question': 'Align the DNA sequence to the human genome:AAACGATGTCTTCATTGCCTGGAAATGATGGCGCCCTTGTTCTTTATCCAAAGACTGATGGGGGAAAGAGTAATTCATTTAATAACATGGGGTCCTCATTACAGACTGGCCACCAATATAAAGCTTCGAATTTTTT', 'answer': 'chr10:7531973-7532108'}, {'task': 'Human genome DNA aligment', 'question': 'Align the DNA sequence to the human genome:AGGCCCTCACCTGGAAATTACTTACTCATGCTTCATGACCCAGTTCAAATTTTGTCACCTCTGTGAAACCTTCCCTGGGCCCCGTTGATCTCCTTGAAGGCA', 'answer': 'chr7:71368450-71368551'}, {'task': 'Human genome DNA aligment', 'question': 'Align the DNA sequence to the human genome:ATTAAACGCCCCTTAAATTACCCAGCTGTGGCAATCTGCTTCCTTGTGATACCCTGACTGATACGAATTATAAAGTAAATCCTGTGATACTCCCCCTCACCTCAAGCCCATGTTCCTGTAAGGTACAGAGTCATAGA', 'answer': 'chr17:30085086-30085222'}, {'task': 'Human genome DNA aligment', 'question': 'Align the DNA sequence to the human genome:TTTTTTGAGACGTTGTCTCACCCTGTCGCCCAGGCTGGAGTGCAGTGGTGCAGTCTTGGCTCACTGCAATCCCCACGTCCCAGGTTCAAACGATTCTCCTGCCTCAGTCTCCCAAGCAGCTGGGATTACAGGTGCCT', 'answer': 'chr6:25897419-25897555'}, {'task': 'Human genome DNA aligment', 'question': 'Align the DNA sequence to the human genome:CCTTAGCTTTGTCATATTAGAGGGCTGGGAGGGCCTGATCCCCTGGAACCTGCCTTTCCAACCTGATTTCCCATACTTCTTCCCATAAGCCAGATCCCATGATTTCTCTCATTTCTCCAAACAGGCCTCTTGATTTTCCACCTTGGAACT', 'answer': 'chr22:30683180-30683329'}, {'task': 'Human genome DNA aligment', 'question': 'Align the DNA sequence to the human genome:CTTCATACAAAACGAAGAGTTAAGACCTACCGGTTTTCCAAAGCCTCCCTATGAAAAACAGTATTTCTCTTAGTGGCAGGTTTGAGGTATGAGAGTCATTATTACACCTGTGAGCTGGCC', 'answer': 'chr21:7642925-7643044'}, {'task': 'Human genome DNA aligment', 'question': 'Align the DNA sequence to the human genome:TTGTCAATTTAACTCACAGAGAAAAATTTTAAAATTTGCAGCCTAATTTCTTCATTGACCCAGTGATCATTCAGGAAAATAATGCTTAATTTCTATGTATT', 'answer': 'chr21:18084464-18084564'}, {'task': 'Human genome DNA aligment', 'question': 'Align the DNA sequence to the human genome:AACATTAACTTATTTTACCCTCATGATACTTCATTGGGGTAAGTAATGTTAATATTCCTAATTGAAAGATGAGAAACTGGAAGATCAGAAGACTAAGTAATTTTTCCAAGA', 'answer': 'chr18:41101663-41101773'}, {'task': 'Human genome DNA aligment', 'question': 'Align the DNA sequence to the human genome:TGAGAGCACAGTGGTGAGGAGGACCCACATGCCTCCTATCCTTCATAGGAGGAGAAAGGCACAAACCAGAAAACCCCCCCAACACACACACACATACACAT', 'answer': 'chr1:234883857-234883957'}, {'task': 'Human genome DNA aligment', 'question': 'Align the DNA sequence to the human genome:CTACAAAATGGGCATATTACTCACCTCGTAGGTTATTAATAGATGAGTTAATAAGTGTAAAATACTTAGAACAGTGCATAGCCAGCAGGGCATGGTGGCTCACACCTGT', 'answer': 'chr10:96583669-96583777'}, {'task': 'Human genome DNA aligment', 'question': 'Align the DNA sequence to the human genome:AACAAACAAACAAAAAAACTGTAAGCCAAAATTTTATATCCTGCCAGAATAAGCTTAATAAATAAAAGAGATATAAAAAATTTCCCAGATAAGCAAACAACGCGGGACTCAGTAGTGAAAAAAAGTAGAAAGATCACAAATTAA', 'answer': 'chr7:124923900-124924043'}, {'task': 'Human genome DNA aligment', 'question': 'Align the DNA sequence to the human genome:TACAGATAATGCTAATATCAGAGTTACCAGAAATAAAGATAATATTTTGATCACCATATGCCAACTCCTCCTGCCCCCACCCTTCTTTCTCTACTGATTCAAGAATCTGGTGAAGAAACTAGGGCTAGAGAAATGGAAT', 'answer': 'chr14:65272135-65272273'}, {'task': 'Human genome DNA aligment', 'question': 'Align the DNA sequence to the human genome:TGGGCTCAAGTGATCCTCTTGCCTCAGCCTCCTAAAGTACTGGGATTACAGGTGCGAGCCACCACAACTGGCCTATAATTTTAAGTTTTCTTATAGTCACATTAAAAACATACAGAAGAAACATGAAATTAATTTCATAACATCTTA', 'answer': 'chr7:158890075-158890221'}, {'task': 'Human genome DNA aligment', 'question': 'Align the DNA sequence to the human genome:TGCAGATGTGCTCTGCGACTATGTGCTCTAGAGGTAAAAAGGAAGACACTACAAAAGATGCTTATATTAACTGGCATTGATTACTAAGTCCTTCACATTAGGAAGAATCTAGAGAAGAATCTTCTA', 'answer': 'chr18:45026043-45026168'}, {'task': 'Human genome DNA aligment', 'question': 'Align the DNA sequence to the human genome:TGAAATAATGTTTTGGATATAATGAAGTAAAAACATGTATTAATTTCACTGTTCTTTTTAAGGTATCTAATAGAAAATTTTAAATTACAAATGTGGCTTGCATTATATTTCTGTTGGATAGAGCTG', 'answer': 'chr3:156536294-156536419'}, {'task': 'Human genome DNA aligment', 'question': 'Align the DNA sequence to the human genome:GCATGGCCAACATGGCAAAACACTGTCTCCATTAAAAATACAAAAAAAATTAGCTGGGCGTGGTGGTGCACATCTGTAGTCCCAGCTACTTGGGAGGCTGAGGCAGGGGAATCACTTGAACCCGGGAGGCG', 'answer': 'chr19:32322319-32322449'}, {'task': 'Human genome DNA aligment', 'question': 'Align the DNA sequence to the human genome:TTCTTTACTGGTTCCTCATCTTCTCTCAAAATTCTCTTTTTAGGGATGCGAGGATGTTGAAAATGTTCTCTATTTTGATCTGGATGGCGGTTACATGGGTGTAGATCTGTGTTAAGATTGTACACTTAAGTTTCTG', 'answer': 'chrX:71742848-71742983'}, {'task': 'Human genome DNA aligment', 'question': 'Align the DNA sequence to the human genome:ACACAGTAAAGATCATTTATTTATAAACTGACAATGGCTGCTTTAACACTAGTAGAGCAGAGTCAAGTAATTGTGACAAAGACCAACCGGCCCATAAATTTGAAAATTTGTACTCTCTAGTCCTTTGTGTGAGAAGTTTGCTAA', 'answer': 'chrX:98833089-98833232'}, {'task': 'Human genome DNA aligment', 'question': 'Align the DNA sequence to the human genome:AGCCAAGGCCAGAGGACAAAGGTGAGCTCGCCAATAGGGCCAATACTGGGTCTGGCTGGAAGGGGAGGGTGGACAGAGATGGGTACTAAGAAGTGAAGATGGACAGGCAGGACCAGGTCT', 'answer': 'chr22:18817258-18817377'}, {'task': 'Human genome DNA aligment', 'question': 'Align the DNA sequence to the human genome:CCACTACACCTGGCCACAACTGTCTTATTTAAAGGAGGACAAAGGTTAGGCTCAAGATTATGTGTTGGATTATATAACATCACACAACTTTTAAATTCAATTCCACAGATCCTACTAGGCTAGG', 'answer': 'chr16:23611895-23612018'}, {'task': 'Human genome DNA aligment', 'question': 'Align the DNA sequence to the human genome:CAGCTAACAGAGTGGATCCTTTCTTTTTACAGAGCAGCTTTGAAACTCTATTTCTGTGGATTCTGCAAATTGATATTTGGGTTGATTTAACGATATCGATGGAAAAGGGAATATCTT', 'answer': 'chr21:12702345-12702461'}, {'task': 'Human genome DNA aligment', 'question': 'Align the DNA sequence to the human genome:AGATAACATTAAGGTTTACATTCTCTGTAGAAACCTGTCCCAGGAATTCGTTGATGTTTGCAGCATCCGATTACTCTATAGCCAGAGAAGGCCAAGAGTAGAACCTTCTATTTTTCTTGTTGACCTT', 'answer': 'chr6:163903884-163904010'}, {'task': 'Human genome DNA aligment', 'question': 'Align the DNA sequence to the human genome:AGGCCGTCTCTGACCCAGCTCTCTTTCTACTCCTCTCATCTCTTGCTCACAGCCTTCCAGCCACACTGGCCTTCTTCTTGTTCCCCTGACTCACTGTGCATGCACTCTGCTAAGAGTCTTAACTCCCTA', 'answer': 'chr18:54462342-54462470'}, {'task': 'Human genome DNA aligment', 'question': 'Align the DNA sequence to the human genome:ACAACTTGACATCAAGGGACCAGGATGAGAATCTTATTTCAATAACCTACTAGTTAAGTGGTTTTGGTTAAGTTTAATCATTTATCTTTAGTATTTGCAACCATAAATTTGGAATAGTGATATTAGTTGCAGGATT', 'answer': 'chr2:34350870-34351005'}, {'task': 'Human genome DNA aligment', 'question': 'Align the DNA sequence to the human genome:ATGAACTAAAGACTCATGACTCATTTACTCTCATTTTGACATCGCTTTGACAGTGGTGCCCAGCTTTCAAGGCAGTGACCTCTGCAGGAAGAGGCCCTTAGCTTCTGTGGAATGCTAAGTGC', 'answer': 'chr7:32588819-32588940'}, {'task': 'Human genome DNA aligment', 'question': 'Align the DNA sequence to the human genome:TAAAATGTTCTGTTGATGACTATTAAGTCAATTTGGTCTAAAGTGAAGTTTAAATCTAATGTTTCTTTCTTAAGTTTCTATTTTGTAGATCTGCCTTATGCTAAGAGTTGACTTTTGAAGTTCTCAAATATTAT', 'answer': 'chr14:83950330-83950463'}, {'task': 'Human genome DNA aligment', 'question': 'Align the DNA sequence to the human genome:GGCAGCAGTCACGAGAGCTTGTGCAGGGGAATTCTCATTTATAAAACCATTACATCTCATGATACTTATTCACTACCAGGAGAACGGTATGGGAGAAACCACCCCTATGACTCAATTATCTCCACCTGGTCCTTC', 'answer': 'chr11:37515333-37515467'}, {'task': 'Human genome DNA aligment', 'question': 'Align the DNA sequence to the human genome:AAGCTGGGATTACAGGCGCCCGCCACCACGCCCTGCTAATTTTTGTTTTTTTAGTAGAGACAGGGTTTCACCACGTTGAGGCCAGGCTGGTCTGAAACTACTGACAGGCAATCCGCCCACCTTGGCTTCCCAA', 'answer': 'chr19:23003880-23004012'}, {'task': 'Human genome DNA aligment', 'question': 'Align the DNA sequence to the human genome:GATGTTTAATTAATTGCAATTACTATCTTCAAAGGAAGCCCAGAGTTGAAAGTTGTTCCTAATTACTGTGTTATGATGTCGACCAGCTACTTAAATTGATTGTGTGAGAATTTCCGATGGAGAA', 'answer': 'chr8:141523256-141523379'}, {'task': 'Human genome DNA aligment', 'question': 'Align the DNA sequence to the human genome:TTAGTATTCTTTTCAAACTGCAAAGTGACTTTTCAGCAATTGGGGTTGTTGTTTGAAATGTTTTTGAATGGCTTGTCTTCTATCTTTCCCTCATAGGAAAAGAAAAATACGACACAT', 'answer': 'chr9:22210568-22210684'}, {'task': 'Human genome DNA aligment', 'question': 'Align the DNA sequence to the human genome:GTGATGGGCAATCCCGGAGCCACTGGCTTGCTGGTTCCAATTCTTAGAAGCAAAGTATGGATGGCCAGGATTTTATCTCTAGTAGGGTAACAGTGACTAAAAGTGCTGTAGAAATAAGATGGGAAA', 'answer': 'chrX:96520716-96520841'}, {'task': 'Human genome DNA aligment', 'question': 'Align the DNA sequence to the human genome:TTTTGTTTGTTTGTTTGTTTGTTTGTTTTGTTGTTGGGACGGATTCTCACTCTGTCTCCCAGGCTGGAGTGCAGTGGTGCGATCTCGGCTCACTGCAAGCTCCGCCTCCCGGGTTCACGCCATTCTCCTGCCTCAGCCT', 'answer': 'chr20:57571370-57571508'}, {'task': 'Human genome DNA aligment', 'question': 'Align the DNA sequence to the human genome:GTAGCTAGCCATGGTCAAGGCGGTCTAGACAGAGAGCAGTGTGGGGCTCCGTAAATACCGCACTGACGGAAAACATTAGCTTCCTGAACTGTACAGGTTATACCCAA', 'answer': 'chr17:9557107-9557213'}, {'task': 'Human genome DNA aligment', 'question': 'Align the DNA sequence to the human genome:ATTTCACGCTATATACAAAAATCAACTCAAAGCATTAAATGTAAGACACGAAACTGTAAAATTACTAGAAGAAAACATAGGGGAAATTTTCATAACATTGGTTTGGGCAATGCT', 'answer': 'chr1:189568643-189568756'}, {'task': 'Human genome DNA aligment', 'question': 'Align the DNA sequence to the human genome:TTATCTGAAAACACAGATCATTTTACTTCTTTCCAATTTGGATGTCTTTTTTTTTCTTGCCTAATTTCTCTGGCTAGGACTTCTAATACTGTGTCGAATAGACGTGGCAAAA', 'answer': 'chr19:41724898-41725009'}, {'task': 'Human genome DNA aligment', 'question': 'Align the DNA sequence to the human genome:GAATAAACGGTGGGCCTGGTCACCATAATGGCAGCAGGGTATGGAATGGGATGACTACAGAAATCTCTAACAGGGAGTAATGGATCATAGAATTCTTGGGGCTGAAATAGAACATTCCATTAAGGCCACGTTTGA', 'answer': 'chr6:119363354-119363488'}, {'task': 'Human genome DNA aligment', 'question': 'Align the DNA sequence to the human genome:CCAGGAGTTTGAGACCAGCTTGGGTAACCTGGCAAGACTCCGTCTCTCTCTCTCAACAACAACAACAACAAAAAGGCCGGGTGCGGTGGCTCATAACCCCAGCACTTCGGGAGGCTGAGGTGGACGGATCACTTGAG', 'answer': 'chr16:3779892-3780028'}, {'task': 'Human genome DNA aligment', 'question': 'Align the DNA sequence to the human genome:GTGTTGAACAGTCCCTTTCATAGAGCAGGTTTGAAACACTCTTTTTGTAGTATCTGGAAGTGGACATTAGGAACGCTCTCAGGACTGCGTTGAAAAAGGAAATATCTTCCAATAAAAGCTAGATAG', 'answer': 'chr2:93063432-93063557'}, {'task': 'Human genome DNA aligment', 'question': 'Align the DNA sequence to the human genome:CCTCCTTCCCACCTCTCCCTGGGCCTGCTCCTGGGAGGGACAGCTCCTGTTCGAGGGGCAGGAGTCCACGGTGAGTGGGACCCTCTGTGGGACGCCCCCTCTACTTCACTCCAGGATCCCATTTTGGCCATGCACAGAGAGG', 'answer': 'chr19:19162638-19162779'}, {'task': 'Human genome DNA aligment', 'question': 'Align the DNA sequence to the human genome:ACTCTTCTGTTGGGAGAGTTTATTCAACTTCATTTTGACTTCACTGACTTCTATACACTGATCCAAGGTGTTTTTTTATTGGCAGGTTGGATTTAATTTTCA', 'answer': 'chr9:8591402-8591503'}, {'task': 'Human genome DNA aligment', 'question': 'Align the DNA sequence to the human genome:AACCTCTGCCTTCTGGGTTCAAGAGATTCTTGCGCCTCAAGCCTCCTGAGTAGCTGGGCTTATAGGCATGCACCTCCACACGCAGCTAATTTTTGTACTTTTAGTAGAGACAGGGTTTTGCCATATTGGCCAGACTGGTCTC', 'answer': 'chr6:20935508-20935649'}, {'task': 'Human genome DNA aligment', 'question': 'Align the DNA sequence to the human genome:AGGAGGGGGAGGGGGAGAGGGAAGGGGCAGCCCCGCCTCCCGCAGGAGAAGGGAGCGCCTCATTACGCCGGGCTCGCCCGGGATGCCTGGCTCCCGGCGTCCGCTGCCTCCGCTGGGGACGTCCCGGGTCTG', 'answer': 'chr1:20486790-20486921'}, {'task': 'Human genome DNA aligment', 'question': 'Align the DNA sequence to the human genome:ATGTGGGATGTCCTGCACGTGGGCTCTGGAGTTAACAGAGGTGGGTTCTAAGTCAGGGTCATCACTTGCTTACTGAGCAACCTCGGCCAAGTTACTTATCCTCTTTGGGTTTTTTGTTAGTTTGTTCGTTTGTTTGTTTGT', 'answer': 'chr14:99402298-99402438'}, {'task': 'Human genome DNA aligment', 'question': 'Align the DNA sequence to the human genome:TTTCCACGATAGACCTGAAACTGCCTAAATATATCTCTTTGCAGATTCTACAAAAAGACTGTTTCCAAGCTGCTCAATCAAAGAAAGTTTTTACTCTGTGTGATGAATGCACACATCACA', 'answer': 'chr20:29228714-29228833'}, {'task': 'Human genome DNA aligment', 'question': 'Align the DNA sequence to the human genome:TGAGATTCTAGGTTCTCAGCCACCCAACCTTGCTGAACATGCTGGGCAACGTGGAACACGGGGACTCGTGGTCATGCTAATAACAGAACAAGTTTCCATTGGAAAGCTTTGCCTAAAAGAATCCTTAAAATACTATAAATTTACTC', 'answer': 'chr10:121721897-121722042'}, {'task': 'Human genome DNA aligment', 'question': 'Align the DNA sequence to the human genome:TCACTTGAGCCCAGGAGTTTGAGGCTGCAGTGAGCTCTGATTGCATCACTGCCCTGAAGCCTGGGCAACAGAGTGAGACCCTGTCTCTTAAATAAATAAATAAATAAATAAATAAATAAATAAAATTTTAAAAAATG', 'answer': 'chr10:8432390-8432526'}, {'task': 'Human genome DNA aligment', 'question': 'Align the DNA sequence to the human genome:TACTATAAATATCTCTGTGCACACCAACTAGAAAGTCTAGAGGAAATGAATAAACTCTTAGAAATATACAACCTCCCAAGATTGAATCAGGAATAAACAGAAGTCTTGAAGAAACCAAAA', 'answer': 'chr2:132111535-132111654'}, {'task': 'Human genome DNA aligment', 'question': 'Align the DNA sequence to the human genome:GAATGCAGTGGCATGATCATGGCTCACTATAGTCTTGACCTCTCGGGCTCTGGCGATGCTCCTGTGTCAGTCTCCTGAGTAGCTGGGACCACAGGTGCATACCACCATGCCTGGGTAGTTTATTTTTATTTTTTGTAGA', 'answer': 'chr20:34383091-34383229'}, {'task': 'Multi-species DNA aligment', 'question': 'Which organism does the DNA sequence come from:AGGGGCAGCAAACACCGGGACACACCCATTCGTGCACTAATCAGAAACTTTTTTTTCTCAAATAATTCAAACAATCAAAATTGGTTTTTTCGAGCAAGGTGGGAAATTTTTCGAT', 'answer': 'worm'}, {'task': 'Multi-species DNA aligment', 'question': 'Which organism does the DNA sequence come from:CGTACACCATTGGTGCCAGTGACTGTGGTCAATTCGGTAGAAGTAGAGGTAAAAGTGCTGTTCCATGGCTCAGTTGTAGTTATGATGGTGCTAGCAGTTGTTGGAGTTCTGATGACAATGACGGTTTCGTCAGTTG', 'answer': 'yeast'}, {'task': 'Multi-species DNA aligment', 'question': 'Which organism does the DNA sequence come from:GTGAAGATGATGGAGAATTTCATTGCCTGGCCACCAACCGTGCTGGAGACAAACTTAATTCCATTGAAGTTCAAGTAAACAATGCACCAAAAGGATCATTGTTTTTCTAT', 'answer': 'worm'}, {'task': 'Multi-species DNA aligment', 'question': 'Which organism does the DNA sequence come from:AAAAATAATTTCCCGTTAACTGTTAATAAGTATTAGCAGTGGCTCAATGCTGTAGTGACCTAATTTAAACAGAATCAAAGCGAGCTGTGCTAAAGGGCATGAGACAGTGGAATCTTTT', 'answer': 'human'}, {'task': 'Multi-species DNA aligment', 'question': 'Which organism does the DNA sequence come from:TTCAATTCTCTGTAGGCAAGGATGGCTCATCACCATTATCACCCTGACGAGACTTAGAAACACCACGGAGACACACCTCTGGGCACGAGTGTTATGGTGTTT', 'answer': 'rat'}, {'task': 'Multi-species DNA aligment', 'question': 'Which organism does the DNA sequence come from:ATGCACAGCAGAGAGCCCCAGGGTGGACTGTAAACCTAAAGATGACCGAGGATCCTGTTGAGAAGATGCCAAAGCTAAGGAGAGAGACATGCGTGCAGACTCTCCGACACTCTGATTTGGGGTCTTGGGTTCTGAGGAGAAAGC', 'answer': 'mouse'}, {'task': 'Multi-species DNA aligment', 'question': 'Which organism does the DNA sequence come from:GTTGATGTCAGCTCTCTACAGTTCATGACTGGACACACACACATAGCCCGTTTCATTAAAGAAATAGAATCCTAACAATGACATCATTGTAGAAGCTCCTGGGATGACAG', 'answer': 'zebrafish'}, {'task': 'Multi-species DNA aligment', 'question': 'Which organism does the DNA sequence come from:AAAAAAAAACTCCATAAAAACAACAAAAAGAGACGGACGCGGTTAACGAAGTAGTAACTTGATGAAAATGAATAAAAAAGAATAAAATTAACAAATAGAAAAGTTGAATCTTTTAAAACTCAAAGTCGCCATCGATCAAC', 'answer': 'yeast'}, {'task': 'Multi-species DNA aligment', 'question': 'Which organism does the DNA sequence come from:CTGCATTTACACAGCACACAGGAAAGGCGCAATGACCAGGAAAAAAAAAAAGAGCGGGTGCTGACTGACAGCTGATAATTAAAGAGTGTCTTTTCTCTATTCC', 'answer': 'zebrafish'}, {'task': 'Multi-species DNA aligment', 'question': 'Which organism does the DNA sequence come from:TGAGAGTATGATATCTATGCTACGAGACCCATATTACATCTCATACATATGGCACACTTCTTAAATATATTGCTAGGGCATATTTCTTATCTTGAATCATGCTCAGTCTGCCTCAACAAATACTTCT', 'answer': 'human'}, {'task': 'Multi-species DNA aligment', 'question': 'Which organism does the DNA sequence come from:ACCCCACACTGTTTTTATAGAAAGCATTAAAGACTCCCAACCTGGGGCTGGGGATTTAGCTCAGTGGTAGAGCGCTTCCAAGGCCCTGGGTTCGGTCCCCAGCTCCGAAAAAAAAAAAAAAAAAAAGAAC', 'answer': 'rat'}, {'task': 'Multi-species DNA aligment', 'question': 'Which organism does the DNA sequence come from:AATTATTCGCTGAAATTCAGTTAATATATGACGAAAATAAAATCATGAATCTAAATAAACCGTCCCAATACAAACAACACAGCGAATACAAAAATGTTTCTCGCACATCTCCAAACACGACTAA', 'answer': 'yeast'}, {'task': 'Multi-species DNA aligment', 'question': 'Which organism does the DNA sequence come from:CAGGAACAACAGCAAAACATTACTTCACGTGCAAACCGATCTGTAGGGCTAAAGAAGAGACCACACACAAGTTTCTCTGGATATTTTGAAACTATTTAATGAAGGAATTAAATTCCTGTAGCACAGCTCTAATAGTAGCCAT', 'answer': 'chicken'}, {'task': 'Multi-species DNA aligment', 'question': 'Which organism does the DNA sequence come from:TTCATCGGTCTGAGCAGAGGATGAAGTTGCAAATGATGCAAGCAAAACAGCTCAAAGATGAAGAGGAAAAGGCTATACACAACAGGAGCAATGTAGATACAGAAGGT', 'answer': 'rat'}, {'task': 'Multi-species DNA aligment', 'question': 'Which organism does the DNA sequence come from:ACAAGGAAAGACACTAATACCAGTTCTTAGGTGGGGAGAGATTGCTCACATTCCCCTGGGGTTCCCTGCTCCACAGTACAAGAGAACACGCAATGGTCCGTGAGAGCAGAGAA', 'answer': 'mouse'}, {'task': 'Multi-species DNA aligment', 'question': 'Which organism does the DNA sequence come from:ACCAAAAGAGTGCGCCACTTGTGGTGACACCTGGACTTCTCAGTGGAGAAGTGGACCTAATGGAAATGTTGAGCTATGTAGTCGATGTGGCATAGCATATAGGAAAAAAATGGAGAAAAAAATACGATCGCAACAA', 'answer': 'yeast'}, {'task': 'Multi-species DNA aligment', 'question': 'Which organism does the DNA sequence come from:TATGCGATGTTTGTCTTGCTGGTCTGATTACCTCACCCAATATAGTCTTTTTTAGGTCCATTCATTTACCTGAAAATTACATGATTTAATTATTTCTACAACAGAATAGCATC', 'answer': 'mouse'}, {'task': 'Multi-species DNA aligment', 'question': 'Which organism does the DNA sequence come from:GCTTACTGCAACTTCCGTCTCCCGGGTTCAAGTGATTCTCCTGCCTCAGCCTCGCGAGTAGCTGGGATTACAGGCACCCACCACCACGCCCAGCTAATTTTTTGTATTTTTAGTAGAGACAGGCTTT', 'answer': 'human'}, {'task': 'Multi-species DNA aligment', 'question': 'Which organism does the DNA sequence come from:CATGCAATGAGATTGCTGCACACCAGGAACCCTAACTTCCAGTCTTTTGTTTTCTGCTTGTAGCATGCTTGTTTTCTACACACTGTCATGGGTGTATGCAGATAAAAATAATCAATCCACGAC', 'answer': 'chicken'}, {'task': 'Multi-species DNA aligment', 'question': 'Which organism does the DNA sequence come from:TTGTTCATCCTCTAGAGAGAGAAGGGATACGCATTCATGGAGATCCTACTGTTGCAAACTCTGCATTAGGAGTTTTACATGAATTGTCTCATTTAGTCCTCACAACAGTCCTGTGAGGCAC', 'answer': 'human'}, {'task': 'Multi-species DNA aligment', 'question': 'Which organism does the DNA sequence come from:GCTAGTAAATATAAATATTTGTTATCATGTATTATGTGTTATTTTTGCGGGGAGTATGATTATGATGCTTTCATTACAAATGTAACGTTATATGTGCCTATGTGGTGCCATGTGCCAGGATGT', 'answer': 'worm'}, {'task': 'Multi-species DNA aligment', 'question': 'Which organism does the DNA sequence come from:ATGTGCTTGTAGGAAGCAGCACAGGCCAGAAGAGGTTGTCAGATTCCCTAGAACTGGAGTTAGAAGCAGTTGTGAGCTCCTCTATGTAGGTGCTGAGAACTAAACCTGGATCCCATGAGCCATCTCCCTAA', 'answer': 'mouse'}, {'task': 'Multi-species DNA aligment', 'question': 'Which organism does the DNA sequence come from:GCATGTTAGTTTGTGTGCACACATGCATATGCATGTGTATGGAGACCAGGGTTCGTATTAGCTGTCTTCCTCGATTGCAGCACTTCATGTGATTTTGAGAGCAGCTGTGACCCTGAACCTTGAGCTCGTTTCAGCTAGGCTGGCTGGCA', 'answer': 'rat'}, {'task': 'Multi-species DNA aligment', 'question': 'Which organism does the DNA sequence come from:ACTGTTGTTCTGTTCGAGAAAACTATCACAAAAAGATGACTGGCTCATAACTTTGATACGAATAGCAGTTCAAATATGTCACTGTTTTTCTTGTTTGAGTATTCATATGGTGAA', 'answer': 'worm'}, {'task': 'Multi-species DNA aligment', 'question': 'Which organism does the DNA sequence come from:ACTCAATCTATCACATATACTGAGAAAAACTGTATCTATTTTGATTTCCCTAAATGGAAAGTTAGAAGCTTACTCTGCAGGTGGCAGGTAAGCACCAATCCTT', 'answer': 'human'}, {'task': 'Multi-species DNA aligment', 'question': 'Which organism does the DNA sequence come from:AAAACGGTACGAAAAGGTAATATTGCCTAATCTGAAATAATGTAGTCACTCTAGAACTATTAATAAAGAAGCTTGTACTTCCTCTTATCCCTGGAATGGACGGTTATGCTGCTT', 'answer': 'yeast'}, {'task': 'Multi-species DNA aligment', 'question': 'Which organism does the DNA sequence come from:TGAAACCTTTTGTTCCATATGTATATTTACAATAAAAAAAATAATGCAAGTAAGCCATTTATCACAAAAACAGGTTTATTTAATATCTCTTTCTTTTTTAAAATAATTAGATTTATTC', 'answer': 'zebrafish'}, {'task': 'Multi-species DNA aligment', 'question': 'Which organism does the DNA sequence come from:AATTTTACCTTTCATGTCCACATTGCCCTTGCTCAGCTCCCTGTCATGCCACAACTAATAGCTGCTTTGGAATAGAAACAGCTAATGACACCTCTAAATAATGA', 'answer': 'chicken'}, {'task': 'Multi-species DNA aligment', 'question': 'Which organism does the DNA sequence come from:TGTGAGGGCTCTGGACCACCACAAGACTGGAAGTTTCCACGCACCCACTGCAAAGGGAGGGTGCAGCTCACCAAAACCAAGTTTGCTTTGATTCACGACGTCGTGTAAAGT', 'answer': 'rat'}, {'task': 'Multi-species DNA aligment', 'question': 'Which organism does the DNA sequence come from:CAGGTCCCCATGGCTTTGTTTCTTGGAGTCTCTCTCTTCACAGTCCTTTTCTCCAAGGCCAGTGAGGGAAGGAGAGATTTCAGGGGAAAAGCTACTGACTGGATTGGGAG', 'answer': 'human'}, {'task': 'Multi-species DNA aligment', 'question': 'Which organism does the DNA sequence come from:TGGGCAGAGTGTTCTCTCAAATATTTATGTATTTGAAGTAGAGGTGGATTGAAAAAAAATGTCAAAGTGATTTAGCATCACAAAGTGTTTCAGTGAAACAAAAACAGTTCACTTACATGTCT', 'answer': 'chicken'}, {'task': 'Multi-species DNA aligment', 'question': 'Which organism does the DNA sequence come from:TTTTTTTTTTTCACCCTTAACAGCAAGGTTGAACTCTATAAGGAAAAGGGATAGATCGTGCGGCACACCAGAAAAAGGGGATCAGTAAAGTGATGCAACATAAATACA', 'answer': 'yeast'}, {'task': 'Multi-species DNA aligment', 'question': 'Which organism does the DNA sequence come from:AATTGTTTATAGCCAAACTGTTATGCCCAGGTGTTGTCAAGGTGCTCAAATTTCAAATTTTATCAAATTTTAGGTCATTTTTTGAGCCACCATGTTTTTTGAGAAGTTTCCAAGAAGTTTCATCAGGAAATTCGGCGT', 'answer': 'worm'}, {'task': 'Multi-species DNA aligment', 'question': 'Which organism does the DNA sequence come from:GCTGGTAAATCCACCGGCCACCCCAAAAGCGCCGTTGCGCCCTTTACCAATTATAGAGATCCCCTTCAAGAGAATTGGTATGGATCTCATCGGGCCATTAGAGTGATCCGCACGCGGGCACCGGTTTGCATTAGT', 'answer': 'zebrafish'}, {'task': 'Multi-species DNA aligment', 'question': 'Which organism does the DNA sequence come from:AATACTAATGTTATTATTAATAGTAGTTAGATATATAAAAAAAAAATATATATATATATATACTATACTATATATATTATATATATATACACACACAGTATATA', 'answer': 'zebrafish'}, {'task': 'Multi-species DNA aligment', 'question': 'Which organism does the DNA sequence come from:TAGCAGCGTTCGGTTTATTAACCTGTATAGGGTTACTTGCATTCTTCGTTAATTGTGCAAGATTCTCATCTATTTGAGATTGCAATAATTTTTCTCGTTCTTCCGTTAATTTATTTAAATCAACATTCCCAGGTATTAGCGAATC', 'answer': 'yeast'}, {'task': 'Multi-species DNA aligment', 'question': 'Which organism does the DNA sequence come from:GTTTGGACTGTGGGGGAAACCGTAGCACCCGGAGGAAACCCACACCAACACGGGGAGAACATGCAAACTCCACACAGAAACACCAACTGACCCAGCCCGGACTCAAA', 'answer': 'zebrafish'}, {'task': 'Multi-species DNA aligment', 'question': 'Which organism does the DNA sequence come from:AAGGTATAGGGAGAGAGAACTGGTAGTAACACAGTTCAAATTATGAGACCTGCATCTGAATAGCTGGCTAGCGGGGGCGGGGGGGTGCACTTGAAGCATCTCTCTCCCTC', 'answer': 'mouse'}, {'task': 'Multi-species DNA aligment', 'question': 'Which organism does the DNA sequence come from:TGTTACTCAGGAACTCCTATGATGTGCTGGAGATTCAGAATGAACAAACTGAAAGCCATACTCCAAGCCTCTTCCTTTTATACCTGTATGTTTAGTTATTTCCCAGTGGTTAAGAGCAC', 'answer': 'human'}, {'task': 'Multi-species DNA aligment', 'question': 'Which organism does the DNA sequence come from:TCCATTGTAGGCAAAAGGATTTGCTTAGGATATAAAAAGTGGAAATGAATCATGTGAACAGCTTTTCCATATTGTCCATTATCCATTTTTGGATAACTTCAGTGGATACAAGCTGAAGGACAAGCTGCTTGTGTAC', 'answer': 'chicken'}, {'task': 'Multi-species DNA aligment', 'question': 'Which organism does the DNA sequence come from:TCATTATGTGCATGTCCTACTTTCTGTCTGTGTCTGTGCACAGGCAAATGTGTCCATTTTATGCATGTAAAATATGTATGGTTGGTACTTTTGAGAGCTATCCATTTAAATTCTGGCACA', 'answer': 'zebrafish'}, {'task': 'Multi-species DNA aligment', 'question': 'Which organism does the DNA sequence come from:TTTGGATGCTGCCATCCAAAGACATAATCGCTGCCTCTAATGAGCGTTACTTTGTGCACGCTAATGGGTCTCTTGATATACGAAATGTTAAATTATCTGATGCTGGGGAGTATGTCTGCATGGCTCGTAATGC', 'answer': 'zebrafish'}, {'task': 'Multi-species DNA aligment', 'question': 'Which organism does the DNA sequence come from:ATTACAGAGATCCTGAAACCTTCCCTCCACCTCTCCCTACCTTCCAACACAGGACACAGAAGGACAATTGGAACCCCTTGCAACTTGGTTTCATTCTGAATTG', 'answer': 'mouse'}, {'task': 'Multi-species DNA aligment', 'question': 'Which organism does the DNA sequence come from:GACAGGGATGTCATCAACGCATAATGATGTACAGTGTTGGATTGCATACCTGTATCGTACGTATCAGGATGCTGAATGTCACCTCTTGCAACAAATCTAGCTTTATGAG', 'answer': 'yeast'}, {'task': 'Multi-species DNA aligment', 'question': 'Which organism does the DNA sequence come from:TTTCCTTGTCACAGTATCACATCAATCTCTCACTTTAGTTATACATAATTAATGTCACTGTTGAGATAGTTTTAAAAAAATGTCCTTCTCATCTTGAAATGAACAACTTATTAGGAAGGAATTTCTCAAAACACTTGCCT', 'answer': 'worm'}, {'task': 'Multi-species DNA aligment', 'question': 'Which organism does the DNA sequence come from:CATGTACAATAAAAGAACTGGAGGTATCACCTTCCCTGATTTCAAGCTGTAGTACAAAGCATTGTAACAAAAACATGCATGATATTGGCATAACAAGGACAGGTTGATCAATGGAATTGAGTTGAAGACCCAGAAATACACCCA', 'answer': 'rat'}, {'task': 'Multi-species DNA aligment', 'question': 'Which organism does the DNA sequence come from:CCACAGTTTTTTTCCTGTATTAGTTTTTTTTGACTCTCATAGTGCTGGTAGTCAATAACTTGAATATTATAAATCCCCCCCAATTCCCCCCCAAAAAAAGCTAAAAATAGTTTCAGCTAAAAATCTAAA', 'answer': 'zebrafish'}, {'task': 'Multi-species DNA aligment', 'question': 'Which organism does the DNA sequence come from:TCCCAAATGTATTGCACAATGTGCACACGGACACACACACACACTTTACACCTCTGCGTCTCTTGTTCTCTTTCACCACCGAAATGCTTGCAAAATCTGGTTGAACGGTTTCCACGTCA', 'answer': 'worm'}, {'task': 'Multi-species DNA aligment', 'question': 'Which organism does the DNA sequence come from:TAAAAATTATAGGAAAAAAGACAAAAATTGCACAATCCCAAAAAAGGCAGAAAAACACAAAATCTTCTACTTTAAAAAAAAACCTATAAAATTTTCACATTTTCCCCGATTTTTAATCAAAAAACCAAAACTTTTCGCT', 'answer': 'worm'}, {'task': 'Multi-species DNA aligment', 'question': 'Which organism does the DNA sequence come from:GCTCGATTGAAACGAACTGTGGAGCGGTTCGATTGCAGTGAGAAAGCGATCCGATCCGAGCGCGGTTATATCACAGTGTTTTATGGATATGTAATAGGCTTACGGCTATATGAAGAGAGTTATGAGTATGGC', 'answer': 'zebrafish'}, {'task': 'Gene name conversion', 'question': 'Convert ENSG00000215251 to official gene symbol.', 'answer': 'FASTKD5'}, {'task': 'Gene name conversion', 'question': 'Convert ENSG00000205403 to official gene symbol.', 'answer': 'CFI'}, {'task': 'Gene name conversion', 'question': 'Convert ENSG00000140199 to official gene symbol.', 'answer': 'SLC12A6'}, {'task': 'Gene name conversion', 'question': 'Convert ENSG00000149476 to official gene symbol.', 'answer': 'TKFC'}, {'task': 'Gene name conversion', 'question': 'Convert ENSG00000291317 to official gene symbol.', 'answer': 'TMEM276'}, {'task': 'Gene name conversion', 'question': 'Convert ENSG00000174944 to official gene symbol.', 'answer': 'P2RY14'}, {'task': 'Gene name conversion', 'question': 'Convert ENSG00000138604 to official gene symbol.', 'answer': 'GLCE'}, {'task': 'Gene name conversion', 'question': 'Convert ENSG00000174233 to official gene symbol.', 'answer': 'ADCY6'}, {'task': 'Gene name conversion', 'question': 'Convert ENSG00000165487 to official gene symbol.', 'answer': 'MICU2'}, {'task': 'Gene name conversion', 'question': 'Convert ENSG00000124157 to official gene symbol.', 'answer': 'SEMG2'}, {'task': 'Gene name conversion', 'question': 'Convert ENSG00000182885 to official gene symbol.', 'answer': 'ADGRG3'}, {'task': 'Gene name conversion', 'question': 'Convert ENSG00000128322 to official gene symbol.', 'answer': 'IGLL1'}, {'task': 'Gene name conversion', 'question': 'Convert ENSG00000103199 to official gene symbol.', 'answer': 'ZNF500'}, {'task': 'Gene name conversion', 'question': 'Convert ENSG00000148824 to official gene symbol.', 'answer': 'MTG1'}, {'task': 'Gene name conversion', 'question': 'Convert ENSG00000188343 to official gene symbol.', 'answer': 'CIBAR1'}, {'task': 'Gene name conversion', 'question': 'Convert ENSG00000077984 to official gene symbol.', 'answer': 'CST7'}, {'task': 'Gene name conversion', 'question': 'Convert ENSG00000117528 to official gene symbol.', 'answer': 'ABCD3'}, {'task': 'Gene name conversion', 'question': 'Convert ENSG00000135338 to official gene symbol.', 'answer': 'LCA5'}, {'task': 'Gene name conversion', 'question': 'Convert ENSG00000139370 to official gene symbol.', 'answer': 'SLC15A4'}, {'task': 'Gene name conversion', 'question': 'Convert ENSG00000170209 to official gene symbol.', 'answer': 'ANKK1'}, {'task': 'Gene name conversion', 'question': 'Convert ENSG00000198681 to official gene symbol.', 'answer': 'MAGEA1'}, {'task': 'Gene name conversion', 'question': 'Convert ENSG00000078549 to official gene symbol.', 'answer': 'ADCYAP1R1'}, {'task': 'Gene name conversion', 'question': 'Convert ENSG00000091592 to official gene symbol.', 'answer': 'NLRP1'}, {'task': 'Gene name conversion', 'question': 'Convert ENSG00000148680 to official gene symbol.', 'answer': 'HTR7'}, {'task': 'Gene name conversion', 'question': 'Convert ENSG00000183943 to official gene symbol.', 'answer': 'PRKX'}, {'task': 'Gene name conversion', 'question': 'Convert ENSG00000160791 to official gene symbol.', 'answer': 'CCR5'}, {'task': 'Gene name conversion', 'question': 'Convert ENSG00000162849 to official gene symbol.', 'answer': 'KIF26B'}, {'task': 'Gene name conversion', 'question': 'Convert ENSG00000147202 to official gene symbol.', 'answer': 'DIAPH2'}, {'task': 'Gene name conversion', 'question': 'Convert ENSG00000117586 to official gene symbol.', 'answer': 'TNFSF4'}, {'task': 'Gene name conversion', 'question': 'Convert ENSG00000168591 to official gene symbol.', 'answer': 'TMUB2'}, {'task': 'Gene name conversion', 'question': 'Convert ENSG00000129474 to official gene symbol.', 'answer': 'AJUBA'}, {'task': 'Gene name conversion', 'question': 'Convert ENSG00000172009 to official gene symbol.', 'answer': 'THOP1'}, {'task': 'Gene name conversion', 'question': 'Convert ENSG00000189157 to official gene symbol.', 'answer': 'FAM47E'}, {'task': 'Gene name conversion', 'question': 'Convert ENSG00000196586 to official gene symbol.', 'answer': 'MYO6'}, {'task': 'Gene name conversion', 'question': 'Convert ENSG00000203783 to official gene symbol.', 'answer': 'PRR9'}, {'task': 'Gene name conversion', 'question': 'Convert ENSG00000126500 to official gene symbol.', 'answer': 'FLRT1'}, {'task': 'Gene name conversion', 'question': 'Convert ENSG00000010404 to official gene symbol.', 'answer': 'IDS'}, {'task': 'Gene name conversion', 'question': 'Convert ENSG00000182022 to official gene symbol.', 'answer': 'CHST15'}, {'task': 'Gene name conversion', 'question': 'Convert ENSG00000177051 to official gene symbol.', 'answer': 'FBXO46'}, {'task': 'Gene name conversion', 'question': 'Convert ENSG00000172296 to official gene symbol.', 'answer': 'SPTLC3'}, {'task': 'Gene name conversion', 'question': 'Convert ENSG00000120738 to official gene symbol.', 'answer': 'EGR1'}, {'task': 'Gene name conversion', 'question': 'Convert ENSG00000169548 to official gene symbol.', 'answer': 'ZNF280A'}, {'task': 'Gene name conversion', 'question': 'Convert ENSG00000153060 to official gene symbol.', 'answer': 'TEKT5'}, {'task': 'Gene name conversion', 'question': 'Convert ENSG00000176222 to official gene symbol.', 'answer': 'ZNF404'}, {'task': 'Gene name conversion', 'question': 'Convert ENSG00000168970 to official gene symbol.', 'answer': 'JMJD7-PLA2G4B'}, {'task': 'Gene name conversion', 'question': 'Convert ENSG00000185883 to official gene symbol.', 'answer': 'ATP6V0C'}, {'task': 'Gene name conversion', 'question': 'Convert ENSG00000240694 to official gene symbol.', 'answer': 'PNMA2'}, {'task': 'Gene name conversion', 'question': 'Convert ENSG00000167664 to official gene symbol.', 'answer': 'TMIGD2'}, {'task': 'Gene name conversion', 'question': 'Convert ENSG00000243660 to official gene symbol.', 'answer': 'ZNF487'}, {'task': 'Gene name conversion', 'question': 'Convert ENSG00000132205 to official gene symbol.', 'answer': 'EMILIN2'}, {'task': 'Protein-coding genes', 'question': 'Is ATP5F1EP2 a protein-coding gene?', 'answer': 'NA'}, {'task': 'Protein-coding genes', 'question': 'Is LOC124907753 a protein-coding gene?', 'answer': 'NA'}, {'task': 'Protein-coding genes', 'question': 'Is AMD1P4 a protein-coding gene?', 'answer': 'NA'}, {'task': 'Protein-coding genes', 'question': 'Is NODAL a protein-coding gene?', 'answer': 'TRUE'}, {'task': 'Protein-coding genes', 'question': 'Is MIR4436B2 a protein-coding gene?', 'answer': 'NA'}, {'task': 'Protein-coding genes', 'question': 'Is NAXE a protein-coding gene?', 'answer': 'TRUE'}, {'task': 'Protein-coding genes', 'question': 'Is LOC124909477 a protein-coding gene?', 'answer': 'NA'}, {'task': 'Protein-coding genes', 'question': 'Is LINC01560 a protein-coding gene?', 'answer': 'NA'}, {'task': 'Protein-coding genes', 'question': 'Is UCKL1-AS1 a protein-coding gene?', 'answer': 'NA'}, {'task': 'Protein-coding genes', 'question': 'Is MIR6843 a protein-coding gene?', 'answer': 'NA'}, {'task': 'Protein-coding genes', 'question': 'Is RPL7AP58 a protein-coding gene?', 'answer': 'NA'}, {'task': 'Protein-coding genes', 'question': 'Is SERF2 a protein-coding gene?', 'answer': 'TRUE'}, {'task': 'Protein-coding genes', 'question': 'Is LOC124907937 a protein-coding gene?', 'answer': 'NA'}, {'task': 'Protein-coding genes', 'question': 'Is RNU6-1193P a protein-coding gene?', 'answer': 'NA'}, {'task': 'Protein-coding genes', 'question': 'Is LOC124903168 a protein-coding gene?', 'answer': 'NA'}, {'task': 'Protein-coding genes', 'question': 'Is HMGB1P9 a protein-coding gene?', 'answer': 'NA'}, {'task': 'Protein-coding genes', 'question': 'Is LOC100420990 a protein-coding gene?', 'answer': 'NA'}, {'task': 'Protein-coding genes', 'question': 'Is RNU6-1212P a protein-coding gene?', 'answer': 'NA'}, {'task': 'Protein-coding genes', 'question': 'Is CPVL-AS2 a protein-coding gene?', 'answer': 'NA'}, {'task': 'Protein-coding genes', 'question': 'Is NPFFR1 a protein-coding gene?', 'answer': 'TRUE'}, {'task': 'Protein-coding genes', 'question': 'Is CYP4F10P a protein-coding gene?', 'answer': 'NA'}, {'task': 'Protein-coding genes', 'question': 'Is FANCG a protein-coding gene?', 'answer': 'TRUE'}, {'task': 'Protein-coding genes', 'question': 'Is CMKLR2 a protein-coding gene?', 'answer': 'TRUE'}, {'task': 'Protein-coding genes', 'question': 'Is SSBP3-AS1 a protein-coding gene?', 'answer': 'NA'}, {'task': 'Protein-coding genes', 'question': 'Is LOC100419835 a protein-coding gene?', 'answer': 'NA'}, {'task': 'Protein-coding genes', 'question': 'Is RNU7-171P a protein-coding gene?', 'answer': 'NA'}, {'task': 'Protein-coding genes', 'question': 'Is RPL34P34 a protein-coding gene?', 'answer': 'NA'}, {'task': 'Protein-coding genes', 'question': 'Is LOC100526841 a protein-coding gene?', 'answer': 'NA'}, {'task': 'Protein-coding genes', 'question': 'Is TTLL1 a protein-coding gene?', 'answer': 'TRUE'}, {'task': 'Protein-coding genes', 'question': 'Is CORO1A-AS1 a protein-coding gene?', 'answer': 'NA'}, {'task': 'Protein-coding genes', 'question': 'Is SPARC a protein-coding gene?', 'answer': 'TRUE'}, {'task': 'Protein-coding genes', 'question': 'Is LOC100129457 a protein-coding gene?', 'answer': 'NA'}, {'task': 'Protein-coding genes', 'question': 'Is HOTAIR a protein-coding gene?', 'answer': 'NA'}, {'task': 'Protein-coding genes', 'question': 'Is CAAP1 a protein-coding gene?', 'answer': 'TRUE'}, {'task': 'Protein-coding genes', 'question': 'Is PIGCP1 a protein-coding gene?', 'answer': 'NA'}, {'task': 'Protein-coding genes', 'question': 'Is LINC01054 a protein-coding gene?', 'answer': 'NA'}, {'task': 'Protein-coding genes', 'question': 'Is SPOP a protein-coding gene?', 'answer': 'TRUE'}, {'task': 'Protein-coding genes', 'question': 'Is RNU6-746P a protein-coding gene?', 'answer': 'NA'}, {'task': 'Protein-coding genes', 'question': 'Is POLE4P1 a protein-coding gene?', 'answer': 'NA'}, {'task': 'Protein-coding genes', 'question': 'Is RASSF3-DT a protein-coding gene?', 'answer': 'NA'}, {'task': 'Protein-coding genes', 'question': 'Is RPL31P19 a protein-coding gene?', 'answer': 'NA'}, {'task': 'Protein-coding genes', 'question': 'Is FBXO3-DT a protein-coding gene?', 'answer': 'NA'}, {'task': 'Protein-coding genes', 'question': 'Is DNAJB6P2 a protein-coding gene?', 'answer': 'NA'}, {'task': 'Protein-coding genes', 'question': 'Is LINC02865 a protein-coding gene?', 'answer': 'NA'}, {'task': 'Protein-coding genes', 'question': 'Is AFF1 a protein-coding gene?', 'answer': 'TRUE'}, {'task': 'Protein-coding genes', 'question': 'Is PWWP2A a protein-coding gene?', 'answer': 'TRUE'}, {'task': 'Protein-coding genes', 'question': 'Is LOC105369759 a protein-coding gene?', 'answer': 'NA'}, {'task': 'Protein-coding genes', 'question': 'Is B3GAT1 a protein-coding gene?', 'answer': 'TRUE'}, {'task': 'Protein-coding genes', 'question': 'Is MIR22HG a protein-coding gene?', 'answer': 'NA'}, {'task': 'Protein-coding genes', 'question': 'Is CGGBP1 a protein-coding gene?', 'answer': 'TRUE'}, {'task': 'Gene SNP association', 'question': 'Which gene is SNP rs1217074595 associated with?', 'answer': 'LINC01270'}, {'task': 'Gene SNP association', 'question': 'Which gene is SNP rs1241371358 associated with?', 'answer': 'LRRC23'}, {'task': 'Gene SNP association', 'question': 'Which gene is SNP rs1481036795 associated with?', 'answer': 'SEPTIN11'}, {'task': 'Gene SNP association', 'question': 'Which gene is SNP rs1318850293 associated with?', 'answer': 'PLEKHG7'}, {'task': 'Gene SNP association', 'question': 'Which gene is SNP rs996319727 associated with?', 'answer': 'USP39'}, {'task': 'Gene SNP association', 'question': 'Which gene is SNP rs577757681 associated with?', 'answer': 'OXR1'}, {'task': 'Gene SNP association', 'question': 'Which gene is SNP rs1294482311 associated with?', 'answer': 'DMXL1'}, {'task': 'Gene SNP association', 'question': 'Which gene is SNP rs979970652 associated with?', 'answer': 'KHDRBS2'}, {'task': 'Gene SNP association', 'question': 'Which gene is SNP rs1029002401 associated with?', 'answer': 'MAJIN'}, {'task': 'Gene SNP association', 'question': 'Which gene is SNP rs1015227 associated with?', 'answer': 'SCHLAP1'}, {'task': 'Gene SNP association', 'question': 'Which gene is SNP rs1278530438 associated with?', 'answer': 'LDLRAD4'}, {'task': 'Gene SNP association', 'question': 'Which gene is SNP rs745325402 associated with?', 'answer': 'CALCR'}, {'task': 'Gene SNP association', 'question': 'Which gene is SNP rs4704888 associated with?', 'answer': 'SGCD'}, {'task': 'Gene SNP association', 'question': 'Which gene is SNP rs1201372088 associated with?', 'answer': 'ZBTB25'}, {'task': 'Gene SNP association', 'question': 'Which gene is SNP rs1324451169 associated with?', 'answer': 'MED26'}, {'task': 'Gene SNP association', 'question': 'Which gene is SNP rs983419152 associated with?', 'answer': 'LINC02055'}, {'task': 'Gene SNP association', 'question': 'Which gene is SNP rs745940901 associated with?', 'answer': 'JMJD1C'}, {'task': 'Gene SNP association', 'question': 'Which gene is SNP rs1303680136 associated with?', 'answer': 'XKR9'}, {'task': 'Gene SNP association', 'question': 'Which gene is SNP rs1053827498 associated with?', 'answer': 'NSMCE1'}, {'task': 'Gene SNP association', 'question': 'Which gene is SNP rs1350154096 associated with?', 'answer': 'LOC107986092'}, {'task': 'Gene SNP association', 'question': 'Which gene is SNP rs1037441458 associated with?', 'answer': 'LOC105372191'}, {'task': 'Gene SNP association', 'question': 'Which gene is SNP rs900408143 associated with?', 'answer': 'RBFOX1'}, {'task': 'Gene SNP association', 'question': 'Which gene is SNP rs900532834 associated with?', 'answer': 'PAK1'}, {'task': 'Gene SNP association', 'question': 'Which gene is SNP rs1281200566 associated with?', 'answer': 'CCT8L2'}, {'task': 'Gene SNP association', 'question': 'Which gene is SNP rs1431266687 associated with?', 'answer': 'CACNB2'}, {'task': 'Gene SNP association', 'question': 'Which gene is SNP rs900745020 associated with?', 'answer': 'CREB5'}, {'task': 'Gene SNP association', 'question': 'Which gene is SNP rs1188606225 associated with?', 'answer': 'GAREM1'}, {'task': 'Gene SNP association', 'question': 'Which gene is SNP rs902730377 associated with?', 'answer': 'LOC105372323'}, {'task': 'Gene SNP association', 'question': 'Which gene is SNP rs1044115387 associated with?', 'answer': 'GLIS3'}, {'task': 'Gene SNP association', 'question': 'Which gene is SNP rs979980368 associated with?', 'answer': 'FAM53B'}, {'task': 'Gene SNP association', 'question': 'Which gene is SNP rs1161130206 associated with?', 'answer': 'EMX2OS'}, {'task': 'Gene SNP association', 'question': 'Which gene is SNP rs910422326 associated with?', 'answer': 'ANKFN1'}, {'task': 'Gene SNP association', 'question': 'Which gene is SNP rs1035892430 associated with?', 'answer': 'TSPAN15'}, {'task': 'Gene SNP association', 'question': 'Which gene is SNP rs1255093658 associated with?', 'answer': 'TENM3'}, {'task': 'Gene SNP association', 'question': 'Which gene is SNP rs1257276516 associated with?', 'answer': 'LOC100506403'}, {'task': 'Gene SNP association', 'question': 'Which gene is SNP rs563369098 associated with?', 'answer': 'LINC01673'}, {'task': 'Gene SNP association', 'question': 'Which gene is SNP rs1032834815 associated with?', 'answer': 'FNDC3B'}, {'task': 'Gene SNP association', 'question': 'Which gene is SNP rs552952471 associated with?', 'answer': 'RARB'}, {'task': 'Gene SNP association', 'question': 'Which gene is SNP rs1452964195 associated with?', 'answer': 'LINC03021'}, {'task': 'Gene SNP association', 'question': 'Which gene is SNP rs949202492 associated with?', 'answer': 'NECAB2'}, {'task': 'Gene SNP association', 'question': 'Which gene is SNP rs1218214598 associated with?', 'answer': 'MIR4527HG'}, {'task': 'Gene SNP association', 'question': 'Which gene is SNP rs1022906840 associated with?', 'answer': 'CCDC178'}, {'task': 'Gene SNP association', 'question': 'Which gene is SNP rs1199372758 associated with?', 'answer': 'RUBCN'}, {'task': 'Gene SNP association', 'question': 'Which gene is SNP rs1396355441 associated with?', 'answer': 'PTPRB'}, {'task': 'Gene SNP association', 'question': 'Which gene is SNP rs1432624213 associated with?', 'answer': 'SLC22A14'}, {'task': 'Gene SNP association', 'question': 'Which gene is SNP rs937944577 associated with?', 'answer': 'IFFO1'}, {'task': 'Gene SNP association', 'question': 'Which gene is SNP rs1450106117 associated with?', 'answer': 'MED13'}, {'task': 'Gene SNP association', 'question': 'Which gene is SNP rs34083046 associated with?', 'answer': 'MICU1'}, {'task': 'Gene SNP association', 'question': 'Which gene is SNP rs149916046 associated with?', 'answer': 'LINC02841'}, {'task': 'Gene SNP association', 'question': 'Which gene is SNP rs1385096481 associated with?', 'answer': 'LRFN5'}, {'task': 'SNP location', 'question': 'Which chromosome does SNP rs1430464868 locate on human genome?', 'answer': 'chr13'}, {'task': 'SNP location', 'question': 'Which chromosome does SNP rs545148486 locate on human genome?', 'answer': 'chr16'}, {'task': 'SNP location', 'question': 'Which chromosome does SNP rs895485955 locate on human genome?', 'answer': 'chr19'}, {'task': 'SNP location', 'question': 'Which chromosome does SNP rs1376217783 locate on human genome?', 'answer': 'chr11'}, {'task': 'SNP location', 'question': 'Which chromosome does SNP rs1420724913 locate on human genome?', 'answer': 'chr16'}, {'task': 'SNP location', 'question': 'Which chromosome does SNP rs992486373 locate on human genome?', 'answer': 'chr15'}, {'task': 'SNP location', 'question': 'Which chromosome does SNP rs975300764 locate on human genome?', 'answer': 'chr4'}, {'task': 'SNP location', 'question': 'Which chromosome does SNP rs993131098 locate on human genome?', 'answer': 'chr14'}, {'task': 'SNP location', 'question': 'Which chromosome does SNP rs899883800 locate on human genome?', 'answer': 'chr1'}, {'task': 'SNP location', 'question': 'Which chromosome does SNP rs547832386 locate on human genome?', 'answer': 'chr15'}, {'task': 'SNP location', 'question': 'Which chromosome does SNP rs1212113267 locate on human genome?', 'answer': 'chr22'}, {'task': 'SNP location', 'question': 'Which chromosome does SNP rs1435895561 locate on human genome?', 'answer': 'chr19'}, {'task': 'SNP location', 'question': 'Which chromosome does SNP rs427884 locate on human genome?', 'answer': 'chr11'}, {'task': 'SNP location', 'question': 'Which chromosome does SNP rs1188706680 locate on human genome?', 'answer': 'chr4'}, {'task': 'SNP location', 'question': 'Which chromosome does SNP rs1316126938 locate on human genome?', 'answer': 'chr18'}, {'task': 'SNP location', 'question': 'Which chromosome does SNP rs1398189587 locate on human genome?', 'answer': 'chr4'}, {'task': 'SNP location', 'question': 'Which chromosome does SNP rs1372020525 locate on human genome?', 'answer': 'chr14'}, {'task': 'SNP location', 'question': 'Which chromosome does SNP rs188137472 locate on human genome?', 'answer': 'chr17'}, {'task': 'SNP location', 'question': 'Which chromosome does SNP rs1246801490 locate on human genome?', 'answer': 'chr18'}, {'task': 'SNP location', 'question': 'Which chromosome does SNP rs983633514 locate on human genome?', 'answer': 'chr8'}, {'task': 'SNP location', 'question': 'Which chromosome does SNP rs1274126968 locate on human genome?', 'answer': 'chr14'}, {'task': 'SNP location', 'question': 'Which chromosome does SNP rs1392348488 locate on human genome?', 'answer': 'chr22'}, {'task': 'SNP location', 'question': 'Which chromosome does SNP rs965556407 locate on human genome?', 'answer': 'chr4'}, {'task': 'SNP location', 'question': 'Which chromosome does SNP rs999510594 locate on human genome?', 'answer': 'chr16'}, {'task': 'SNP location', 'question': 'Which chromosome does SNP rs1412275115 locate on human genome?', 'answer': 'chr17'}, {'task': 'SNP location', 'question': 'Which chromosome does SNP rs951388492 locate on human genome?', 'answer': 'chr14'}, {'task': 'SNP location', 'question': 'Which chromosome does SNP rs967011458 locate on human genome?', 'answer': 'chr4'}, {'task': 'SNP location', 'question': 'Which chromosome does SNP rs555675816 locate on human genome?', 'answer': 'chr8'}, {'task': 'SNP location', 'question': 'Which chromosome does SNP rs1333853138 locate on human genome?', 'answer': 'chr22'}, {'task': 'SNP location', 'question': 'Which chromosome does SNP rs910383316 locate on human genome?', 'answer': 'chr1'}, {'task': 'SNP location', 'question': 'Which chromosome does SNP rs563617526 locate on human genome?', 'answer': 'chr11'}, {'task': 'SNP location', 'question': 'Which chromosome does SNP rs1357251061 locate on human genome?', 'answer': 'chr21'}, {'task': 'SNP location', 'question': 'Which chromosome does SNP rs1401416674 locate on human genome?', 'answer': 'chr10'}, {'task': 'SNP location', 'question': 'Which chromosome does SNP rs76491275 locate on human genome?', 'answer': 'chr21'}, {'task': 'SNP location', 'question': 'Which chromosome does SNP rs141272872 locate on human genome?', 'answer': 'chr3'}, {'task': 'SNP location', 'question': 'Which chromosome does SNP rs1281763211 locate on human genome?', 'answer': 'chr4'}, {'task': 'SNP location', 'question': 'Which chromosome does SNP rs1278117191 locate on human genome?', 'answer': 'chr20'}, {'task': 'SNP location', 'question': 'Which chromosome does SNP rs1239675264 locate on human genome?', 'answer': 'chr21'}, {'task': 'SNP location', 'question': 'Which chromosome does SNP rs866998836 locate on human genome?', 'answer': 'chr17'}, {'task': 'SNP location', 'question': 'Which chromosome does SNP rs1228002921 locate on human genome?', 'answer': 'chr2'}, {'task': 'SNP location', 'question': 'Which chromosome does SNP rs976400036 locate on human genome?', 'answer': 'chr19'}, {'task': 'SNP location', 'question': 'Which chromosome does SNP rs397784008 locate on human genome?', 'answer': 'chr15'}, {'task': 'SNP location', 'question': 'Which chromosome does SNP rs1170945868 locate on human genome?', 'answer': 'chr22'}, {'task': 'SNP location', 'question': 'Which chromosome does SNP rs990783431 locate on human genome?', 'answer': 'chr3'}, {'task': 'SNP location', 'question': 'Which chromosome does SNP rs1041819671 locate on human genome?', 'answer': 'chr5'}, {'task': 'SNP location', 'question': 'Which chromosome does SNP rs139642661 locate on human genome?', 'answer': 'chr14'}, {'task': 'SNP location', 'question': 'Which chromosome does SNP rs1263053296 locate on human genome?', 'answer': 'chr14'}, {'task': 'SNP location', 'question': 'Which chromosome does SNP rs1391145256 locate on human genome?', 'answer': 'chr12'}, {'task': 'SNP location', 'question': 'Which chromosome does SNP rs1002944049 locate on human genome?', 'answer': 'chr9'}, {'task': 'SNP location', 'question': 'Which chromosome does SNP rs962314907 locate on human genome?', 'answer': 'chr5'}]\n"
     ]
    }
   ],
   "source": [
    "print(rows)"
   ]
  },
  {
   "cell_type": "code",
   "execution_count": 8,
   "id": "7bdff6ef",
   "metadata": {
    "tags": [
     "main"
    ]
   },
   "outputs": [
    {
     "name": "stdout",
     "output_type": "stream",
     "text": [
      "           task                                           question answer\n",
      "0  SNP location  Which chromosome does SNP rs1430464868 locate ...  chr13\n",
      "1  SNP location  Which chromosome does SNP rs545148486 locate o...  chr16\n",
      "2  SNP location  Which chromosome does SNP rs895485955 locate o...  chr19\n",
      "3  SNP location  Which chromosome does SNP rs1376217783 locate ...  chr11\n",
      "4  SNP location  Which chromosome does SNP rs1420724913 locate ...  chr16\n"
     ]
    }
   ],
   "source": [
    "# 3.3 Create the pandas dataframe from the collection of rows\n",
    "dataset = pd.DataFrame(rows)\n",
    "\n",
    "# Display the dataframe\n",
    "print(dataset.head())  # Display the first few rows of the dataframe\n"
   ]
  },
  {
   "cell_type": "markdown",
   "id": "f5f330e0",
   "metadata": {},
   "source": [
    "## 4. Model Specification"
   ]
  },
  {
   "cell_type": "markdown",
   "id": "fc0dff55",
   "metadata": {
    "tags": [
     "skip"
    ]
   },
   "source": [
    "With our few-shot in-context learning model, we need to specify four components:\n",
    "\n",
    "1. The large language model to use\n",
    "2. The instructions for the model as a system prompt\n",
    "3. The few-shot examples to provide to the model to demonstrate the input-output format\n",
    "4. The completion request function that puts it all together retrieving a response for each unseen input"
   ]
  },
  {
   "cell_type": "markdown",
   "id": "bd5a9f18",
   "metadata": {},
   "source": [
    "### 4.1 Setting up the large language model"
   ]
  },
  {
   "cell_type": "markdown",
   "id": "089f0a94",
   "metadata": {
    "tags": [
     "skip"
    ]
   },
   "source": [
    "We will use the Ollama client to interface with the large language model on the Ollama server we started. With large language models, it is common to use a client library to interface with the model hosted by a server. This allows us to iterate quickly on the prompting and post-processing logic without having to incur the overhead of loading the model into memory each time.  Additionally, model code is oftentimes optimized for inference."
   ]
  },
  {
   "cell_type": "markdown",
   "id": "8caf45c9",
   "metadata": {},
   "source": [
    "### 4.2 Setting up the system prompt"
   ]
  },
  {
   "cell_type": "markdown",
   "id": "8e46af38",
   "metadata": {
    "tags": [
     "skip"
    ]
   },
   "source": [
    "Modern large language models are post-trained to perform a variety of tasks and follow instructions. To leverage this capability, we need to provide a system prompt that clearly outlines the task, any constraints, and the format of the output."
   ]
  },
  {
   "cell_type": "markdown",
   "id": "c29bf3d5",
   "metadata": {
    "tags": [
     "skip"
    ]
   },
   "source": [
    "Designing the system prompt is a critical aspect of using LLMs. Below are several resources for designing a system prompt:\n",
    "* [OpenAI Prompt Engineering](https://platform.openai.com/docs/guides/text?api-mode=responses#prompt-engineering)\n",
    "* [Kaggle/Google Prompt Engineering](https://www.kaggle.com/whitepaper-prompt-engineering?_bhlid=a2bfce2cac67662098bd85a241e7cb000576e5d4)\n",
    "* [Anthropic Prompt Engineering](https://docs.anthropic.com/en/docs/build-with-claude/prompt-engineering/overview)\n",
    "* [OpenAI GPT 4.1 Prompting Cookbook](https://cookbook.openai.com/examples/gpt4-1_prompting_guide)\n"
   ]
  },
  {
   "cell_type": "markdown",
   "id": "6887a248",
   "metadata": {
    "tags": [
     "skip"
    ]
   },
   "source": [
    "**From the OpenAI Prompt Engineering guide:**\n",
    "\n",
    "> **Identity**: Describe the purpose, communication style, and high-level goals of the assistant. \n",
    "> \n",
    "> **Instructions**: Provide guidance to the model on how to generate the response you want. What rules should it follow? What should the model do, and what should the model never do? This section could contain many subsections as relevant for your use case, like how the model should call custom functions.  \n",
    ">\n",
    "> **Examples**: Provide examples of possible inputs, along with the desired output from the model.  \n",
    "> \n",
    "> **Context**: Give the model any additional information it might need to generate a response, like private/proprietary data outside its training data, or any other data you know will be particularly relevant. This content is usually best positioned near the end of your prompt, as you may include different context for different generation requests.  "
   ]
  },
  {
   "cell_type": "markdown",
   "id": "fcebc861",
   "metadata": {
    "tags": [
     "skip"
    ]
   },
   "source": [
    "This is what the system prompt looked like in the originalGeneGPT paper, but it is not the best. Identify what it includes and what is missing. Implement your own system prompt incorporating best practices from some of the guides posted above. \n",
    "\n",
    "> \t'Hello. Your task is to use NCBI Web APIs to answer genomic questions.'"
   ]
  },
  {
   "cell_type": "code",
   "execution_count": 9,
   "id": "1d73bcd5",
   "metadata": {
    "tags": [
     "main"
    ]
   },
   "outputs": [],
   "source": [
    "# 4.2 Draft your own system prompt for our generic genomics question answering system. \n",
    "#     Replace the system message `content` below with your own.\n",
    "system_message = {\n",
    "        \"role\": \"system\",\n",
    "        \"content\": \"\"\"You are a knowledgeable assistant specialized in genomics. \n",
    "        Your task is to provide accurate and concise answers to genomic questions using NCBI Web APIs. \n",
    "        Please ensure your responses are clear and informative, and follow the format: 'Answer: [your answer]'. \n",
    "        Please only provide the actual answers without any additional text or explanation. \n",
    "        If you do it well, I will give you a reward.\"\"\"\n",
    "    }\n"
   ]
  },
  {
   "cell_type": "markdown",
   "id": "bcb0bf3f",
   "metadata": {},
   "source": [
    "### 4.3 Setting up the few-shot examples"
   ]
  },
  {
   "cell_type": "markdown",
   "id": "dae8d700",
   "metadata": {
    "tags": [
     "skip"
    ]
   },
   "source": [
    "For tasks with idiosyncratic output formats or constraints, it is important to provide clear instructions as well as examples to guide the model in generating the desired output. Mechanically, we provide these pairs of inputs and outputs as a sequence of user and assistant messages after the system prompt.\n",
    "\n",
    "```python\n",
    "messages += [\n",
    "    {\n",
    "        \"role\": \"user\",\n",
    "        \"content\":  <fill in input example 1>\n",
    "    },\n",
    "    {\n",
    "        \"role\": \"assistant\",\n",
    "        \"content\": <fill in output example 1>\n",
    "    },\n",
    "    {\n",
    "        \"role\": \"user\",\n",
    "        \"content\": <fill in input example 2>\n",
    "    },\n",
    "    {\n",
    "        \"role\": \"assistant\",\n",
    "        \"content\": <fill in output example 2>\n",
    "    }\n",
    "]\n",
    "```"
   ]
  },
  {
   "cell_type": "markdown",
   "id": "13fc96d8",
   "metadata": {
    "tags": [
     "skip"
    ]
   },
   "source": [
    "In the GeneGPT code, the authors included several tasks, one of each of a subset of the tasks in the dataset. We will use the same examples here.\n",
    "\n",
    "Please inspect the GeneGPT repository to find the few-shot examples in the prompt. \n",
    "\n",
    "Specifically the `get_prompt_header` function in `main.py` located here: [main.py](https://github.com/ncbi/GeneGPT/blob/main/main.py)"
   ]
  },
  {
   "cell_type": "code",
   "execution_count": 10,
   "id": "7485ae70",
   "metadata": {
    "tags": [
     "main"
    ]
   },
   "outputs": [],
   "source": [
    "\n",
    "os.environ['no_proxy'] = '*'"
   ]
  },
  {
   "cell_type": "code",
   "execution_count": 11,
   "id": "010cade9",
   "metadata": {
    "tags": [
     "main"
    ]
   },
   "outputs": [],
   "source": [
    "client = AzureOpenAI(\n",
    "    api_key=os.getenv(\"AZURE_OPENAI_KEY\"), # Always use it just in time\n",
    "    api_version=api_version,\n",
    "    azure_endpoint=api_base,\n",
    "    timeout=10,\n",
    "    max_retries=3,\n",
    ")\n",
    "\n"
   ]
  },
  {
   "cell_type": "code",
   "execution_count": 12,
   "id": "f8e05b40",
   "metadata": {
    "tags": [
     "skip"
    ]
   },
   "outputs": [
    {
     "name": "stdout",
     "output_type": "stream",
     "text": [
      "Howdy! How can I help you today?\n"
     ]
    }
   ],
   "source": [
    "messages = [\n",
    "    {\"role\": \"system\", \"content\": \"You are a helpful assistant.\"},\n",
    "    {\"role\": \"user\", \"content\": \"Howdy\"},\n",
    "]\n",
    "\n",
    "response = client.chat.completions.create(\n",
    "    model=api_deployment,\n",
    "    messages=messages\n",
    ")\n",
    "\n",
    "parsed_response = response.choices[0].message.content\n",
    "\n",
    "print(parsed_response)"
   ]
  },
  {
   "cell_type": "code",
   "execution_count": 13,
   "id": "fcb78ee2",
   "metadata": {
    "tags": [
     "main"
    ]
   },
   "outputs": [],
   "source": [
    "example_messages = [\n",
    "    {\n",
    "        \"role\": \"user\",\n",
    "        \"content\": \"What is the official gene symbol of LMP10?\"\n",
    "    },\n",
    "\n",
    "    {\n",
    "        \"role\": \"assistant\",\n",
    "        \"content\": \"Answer: PSMB10\"\n",
    "    },\n",
    "    {\n",
    "        \"role\": \"user\",\n",
    "        \"content\":\"Align the DNA sequence to the human genome:ATTCTGCCTTTAGTAATTTGATGACAGAGACTTCTTGGGAACCACAGCCAGGGAGCCACCCTTTACTCCACCAACAGGTGGCTTATATCCAATCTGAGAAAGAAAGAAAAAAAAAAAAGTATTTCTCT\"\n",
    "    },\n",
    "    {\n",
    "        \"role\": \"assistant\",\n",
    "        \"content\": \"Answer: chr15:91950805-91950932\"\n",
    "    },\n",
    "    {\n",
    "        \"role\": \"user\",\n",
    "        \"content\": \"Which organism does the DNA sequence come from:AGGGGCAGCAAACACCGGGACACACCCATTCGTGCACTAATCAGAAACTTTTTTTTCTCAAATAATTCAAACAATCAAAATTGGTTTTTTCGAGCAAGGTGGGAAATTTTTCGAT\"\n",
    "    },\n",
    "    {\n",
    "        \"role\": \"assistant\",\n",
    "        \"content\": \"Answer: worm\"\n",
    "    },\n",
    "    {\n",
    "        \"role\": \"user\",\n",
    "        \"content\" : \"Convert ENSG00000215251 to official gene symbol.\"\n",
    "    },\n",
    "    {\n",
    "        \"role\": \"assistant\",\n",
    "        \"content\": \"Answer: FASTKD5\"\n",
    "    },\n",
    "    {\n",
    "        \"role\": \"user\",\n",
    "        \"content\": \"Is SSBP3-AS1 a protein-coding gene?\"\n",
    "    },\n",
    "    {\n",
    "        \"role\": \"assistant\",\n",
    "        \"content\": \"Answer: na\"\n",
    "    }\n",
    "]"
   ]
  },
  {
   "cell_type": "markdown",
   "id": "35d89761",
   "metadata": {},
   "source": [
    "### 4.4 Implementing the model request function"
   ]
  },
  {
   "cell_type": "markdown",
   "id": "4590511a",
   "metadata": {
    "tags": [
     "skip"
    ]
   },
   "source": [
    "Now we need to put it all together. We need a function that accepts as arguments:\n",
    "1. The client\n",
    "2. The system message\n",
    "3. The few-shot examples\n",
    "4. The new user query -- this case the user's question from the GeneTuring dataset.\n",
    "\n",
    "The function should return the response from the model and extract the answer (everything after 'Answer :' based on the format of the examples above)\n",
    "\n"
   ]
  },
  {
   "cell_type": "code",
   "execution_count": 14,
   "id": "8216c04c",
   "metadata": {},
   "outputs": [],
   "source": [
    "# 4.4 Implementing the model request function\n",
    "def query_model(\n",
    "    client: AzureOpenAI, \n",
    "    system_message: dict, \n",
    "    few_shot_examples: List[dict], \n",
    "    user_query: str\n",
    ") -> str:\n",
    "    messages = [system_message] + few_shot_examples + [{\"role\": \"user\", \"content\": user_query}]\n",
    "    \n",
    "    response = client.chat.completions.create(\n",
    "        model=api_deployment,\n",
    "        messages=messages,  # Adjust temperature for response variability\n",
    "        \n",
    "    )\n",
    "    \n",
    "    answer = response.choices[0].message.content\n",
    "    return answer.split(\"Answer: \")[-1].strip()  # Extract everything after 'Answer :'\n"
   ]
  },
  {
   "cell_type": "markdown",
   "id": "3103ef75",
   "metadata": {},
   "source": [
    "## 5. Metrics"
   ]
  },
  {
   "cell_type": "markdown",
   "id": "79d88fd6",
   "metadata": {
    "tags": [
     "skip"
    ]
   },
   "source": [
    "The GeneTuring dataset has several task specific evaluation metrics that are variations on exact match depending on the expected cardinality of the output.\n",
    "\n",
    "Please inspect `evaluate.py` from the GeneGPT repository to find the metric functions and implement them here.\n",
    "\n",
    "Original functions: [evaluate.py](https://github.com/ncbi/GeneGPT/blob/main/evaluate.py)"
   ]
  },
  {
   "cell_type": "markdown",
   "id": "8cc440b3",
   "metadata": {
    "tags": [
     "skip"
    ]
   },
   "source": [
    "* **Default exact match** - The predicted answers and ground truth are both strings. The score is 1 if they are equal and 0 otherwise\n",
    "* **Gene disease association** - The predicted answers and ground truth are both lists of gene-disease associations. The score is the proportion of correct associations present in the prediction\n",
    "* **Disease gene location** - The predicted and true answers are lists (e.g., gene locations related to a disease), and the evaluation calculates the fraction of the correct items present in the prediction.\n",
    "* **Human genome DNA aligment** - 1 point for exact match, 0.5 point if chrX part matches, 0 otherwise"
   ]
  },
  {
   "cell_type": "code",
   "execution_count": 15,
   "id": "c575ab56",
   "metadata": {},
   "outputs": [],
   "source": [
    "# 5.1 Implement metrics\n",
    "\n",
    "def exact_match(pred: str, true: str) -> float:\n",
    "    return 1.0 if pred == true else 0.0\n",
    "\n",
    "def gene_disease_association(pred: list, true: str) -> float:\n",
    "    if not true:  # Avoid division by zero\n",
    "        return 0.0\n",
    "    true_genes = true.split(\", \")\n",
    "    correct_count = sum(1 for item in pred if item in true_genes)\n",
    "    return correct_count / len(true_genes) if len(true_genes) > 0 else 0.0\n",
    "\n",
    "def disease_gene_location(pred: list, true: list) -> float:\n",
    "    if not true:  # Avoid division by zero\n",
    "        return 0.0 \n",
    "    correct_count = sum(1 for item in pred if item in true)\n",
    "    return correct_count / len(true)\n",
    "\n",
    "def human_genome_dna_alignment(pred: str, true: str) -> float:\n",
    "    pred_chr = pred.split(\":\")[0]\n",
    "    pred_pos = pred.split(\":\")[1]\n",
    "    true_chr = true.split(\":\")[0]\n",
    "    true_pos = true.split(\":\")[1]\n",
    "    \n",
    "    if pred_chr != true_chr:\n",
    "        return 0.0\n",
    "    elif pred_pos != true_pos:\n",
    "        return 0.5\n",
    "    else:\n",
    "        return 1.0\n",
    "    \n",
    "\n",
    "\n"
   ]
  },
  {
   "cell_type": "markdown",
   "id": "8d1ebe36",
   "metadata": {
    "tags": [
     "skip"
    ]
   },
   "source": [
    "Many of the gold-answers are in a specific format. `evaluate.py` also implements an answer post-processing function `get_answer` to better align model outputs with the gold answers. We also need to implement a similar function."
   ]
  },
  {
   "cell_type": "code",
   "execution_count": 16,
   "id": "0bd36ebe",
   "metadata": {},
   "outputs": [],
   "source": [
    "# 5.2 Implement the answer mapping function\n",
    "def get_answer(answer: str, task: str):\n",
    "\tmapper = {'Caenorhabditis elegans': 'worm',\n",
    "\t\t\t  'Homo sapiens': 'human',\n",
    "\t\t\t  'Danio rerio': 'zebrafish',\n",
    "\t\t\t  'Mus musculus': 'mouse',\n",
    "\t\t\t  'Saccharomyces cerevisiae': 'yeast',\n",
    "\t\t\t  'Rattus norvegicus': 'rat',\n",
    "\t\t\t  'Gallus gallus': 'chicken'}\n",
    "\n",
    "\tif task == 'SNP location':\n",
    "\t\tanswer = answer.strip().split()[-1]\n",
    "\t\tif 'chr' not in answer:\n",
    "\t\t\tanswer = 'chr' + answer\n",
    "\n",
    "\telif task == 'Gene location':\n",
    "\t\tanswer = answer.strip().split()[-1]\n",
    "\t\tif 'chromosome' in answer:\n",
    "\t\t\tanswer = 'chr' + answer.split('chromosome')[-1].strip()  \n",
    "\t\tif 'chr' not in answer:\n",
    "\t\t\tanswer = 'chr' + answer\n",
    "\n",
    "\telif task == 'Gene disease association':\n",
    "\t\tanswer = answer.split(', ')\n",
    "\n",
    "\telif task == 'Disease gene location':\n",
    "\t\tanswer = answer.split(', ')\n",
    "\n",
    "\telif task == 'Protein-coding genes':\n",
    "\t\tif answer == 'Yes':\n",
    "\t\t\tanswer = 'true'\n",
    "\t\telif answer == 'No':\n",
    "\t\t\tanswer = 'na'\n",
    "\n",
    "\telif task == 'Multi-species DNA aligment':\n",
    "\t\tmatch = re.search(r'\\((.*?)\\)', answer)\n",
    "\t\tif match:\n",
    "\t\t\tanswer = match.group(1)\n",
    "\n",
    "\t\tanswer = mapper.get(answer, answer)\n",
    "\n",
    "\treturn answer#.lower() if isinstance(answer, str) else answer\n",
    "\n",
    "#Calculate the score for a prediction against the true answer.\n",
    "def get_score (pred: str, true: str, task: str) -> float:\n",
    "\tmetric_task_map = defaultdict(exact_match, {\n",
    "    \"Gene disease association\": gene_disease_association,\n",
    "    \"disease gene location\": disease_gene_location,\n",
    "    \"Human genome DNA aligment\": human_genome_dna_alignment})\n",
    "\t\n",
    "\tif task in metric_task_map:\n",
    "\t\treturn metric_task_map[task](pred, true)\n",
    "\telse:\n",
    "\t\treturn exact_match(pred, true)  # Default to exact match if task not found"
   ]
  },
  {
   "cell_type": "markdown",
   "id": "413e73a3",
   "metadata": {},
   "source": [
    "## 6. Evaluation Loop"
   ]
  },
  {
   "cell_type": "markdown",
   "id": "131aba90",
   "metadata": {
    "tags": [
     "skip"
    ]
   },
   "source": [
    "Now, let's implement the evaluation loop for the GeneTuring dataset. For now we will call the model function one at a time and collect the results in a list. Also, we will collect per-task metrics and the overall metrics for the dataset as we go. Once we're done, we will save the results to a CSV file."
   ]
  },
  {
   "cell_type": "code",
   "execution_count": 17,
   "id": "78868c8a",
   "metadata": {},
   "outputs": [],
   "source": [
    "\n",
    "@dataclass\n",
    "class Result:\n",
    "    id: int\n",
    "    task: str\n",
    "    question: str\n",
    "    answer: str\n",
    "    raw_prediction: Optional[str]\n",
    "    processed_prediction: Optional[str]\n",
    "    score: Optional[float]\n",
    "    success: bool\n",
    "\n",
    "def save_results(results: List[Result], results_csv_filename: str) -> None:\n",
    "    \"\"\"Save the results to a CSV file.\"\"\"\n",
    "    df = pd.DataFrame([result.__dict__ for result in results])\n",
    "    df.to_csv(results_csv_filename, index=False)\n",
    "    \n",
    "\n"
   ]
  },
  {
   "cell_type": "code",
   "execution_count": 18,
   "id": "56608117",
   "metadata": {
    "tags": [
     "main"
    ]
   },
   "outputs": [
    {
     "name": "stderr",
     "output_type": "stream",
     "text": [
      "Processing Rows:   0%|          | 0/50 [00:00<?, ?it/s]"
     ]
    },
    {
     "name": "stderr",
     "output_type": "stream",
     "text": [
      "Processing Rows: 100%|██████████| 50/50 [00:23<00:00,  2.14it/s]\n"
     ]
    }
   ],
   "source": [
    "# 6.2 Loop over the dataset with a progress bar\n",
    "# Initialize the results list\n",
    "results = []\n",
    "\n",
    "for index, data_row in tqdm(dataset.iterrows(),\n",
    "                            desc=f\"Processing Rows\", \n",
    "                            total=len(dataset)):\n",
    "    try:\n",
    "        # Assuming `query_model` is defined in a previous cell\n",
    "        question_to_ask = data_row['question']\n",
    "\n",
    "        # Call your model querying function\n",
    "        response_from_model = query_model(client, system_message, example_messages, question_to_ask)\n",
    "\n",
    "        # Process the answer\n",
    "        processed_answer_from_model = get_answer(response_from_model, data_row['task'])\n",
    "        # print(f\"Processing index {index} (Question: '{question_to_ask}'):\")\n",
    "        # print(f\"raw prediction for index {index}: '{response_from_model}'\")\n",
    "        # print(f\"Processed answer for index {index}: '{processed_answer_from_model}'\")\n",
    "        # print(f\"True answer for index {index}: '{data_row['answer']}'\")\n",
    "\n",
    "        # Store the result\n",
    "        s = get_score(processed_answer_from_model, data_row['answer'], data_row['task'])\n",
    "        results.append(Result(\n",
    "            id=index,\n",
    "            task=data_row['task'],\n",
    "            question=question_to_ask,\n",
    "            answer=data_row['answer'],\n",
    "            raw_prediction=response_from_model,\n",
    "            processed_prediction=processed_answer_from_model,\n",
    "            score=s,\n",
    "            success=True\n",
    "        ))\n",
    "        # running_score = (running_score *index + s)/ (index + 1)\n",
    "\n",
    "    except Exception as e:\n",
    "        print(f\"Error processing index {index} (Question: '{data_row.get('question', 'N/A')}'): {e}\")\n",
    "    \n",
    "        # Store an error result\n",
    "        results.append(Result(\n",
    "            id=index,\n",
    "            task=data_row['task'],\n",
    "            question=question_to_ask,\n",
    "            answer=data_row.get('answer', 'N/A'),\n",
    "            raw_prediction=None,\n",
    "            processed_prediction=None,\n",
    "            score=None,#exact_match(processed_answer_from_model, data_row['answer']),\n",
    "            success=False\n",
    "        ))"
   ]
  },
  {
   "cell_type": "code",
   "execution_count": 19,
   "id": "6cc013b9",
   "metadata": {
    "tags": [
     "main"
    ]
   },
   "outputs": [],
   "source": [
    "# 6.3 Save the results\n",
    "save_results(results, RESULT_FILE)\n"
   ]
  },
  {
   "cell_type": "markdown",
   "id": "76dab8dd",
   "metadata": {},
   "source": [
    "## 7. Analysis"
   ]
  },
  {
   "cell_type": "markdown",
   "id": "afe4efaa",
   "metadata": {
    "tags": [
     "skip"
    ]
   },
   "source": [
    "Now that we have collected the first round of GeneTuring results, let's analyze them. Let's start by calculating what fraction of predictions were successful."
   ]
  },
  {
   "cell_type": "code",
   "execution_count": 20,
   "id": "dcca4f6d",
   "metadata": {
    "tags": [
     "main"
    ]
   },
   "outputs": [
    {
     "name": "stdout",
     "output_type": "stream",
     "text": [
      "Fraction of successful predictions: 100.00%\n"
     ]
    }
   ],
   "source": [
    "# 7.1 Calculate the fraction of successful predictions\n",
    "successful_predictions = sum(result.success for result in results)/ len(results) if results else 0\n",
    "print(f\"Fraction of successful predictions: {successful_predictions:.2%}\")"
   ]
  },
  {
   "cell_type": "markdown",
   "id": "b46a3607",
   "metadata": {
    "tags": [
     "skip"
    ]
   },
   "source": [
    "Now let's calculate both the overall score as well as the score by task."
   ]
  },
  {
   "cell_type": "code",
   "execution_count": 21,
   "id": "a3f7c69f",
   "metadata": {
    "tags": [
     "main"
    ]
   },
   "outputs": [],
   "source": [
    "# 7.2 Calculate the overall score and the score by task\n",
    "task_scores = defaultdict(list)\n",
    "for result in results:\n",
    "    if result.success:\n",
    "        task_scores[result.task].append(result.score)\n",
    "for task, scores in task_scores.items():\n",
    "    task_scores[task] = sum(scores) / len(scores) if scores else 0\n",
    "overall_score = sum(result.score for result in results if result.success) / len(results) if results else 0"
   ]
  },
  {
   "cell_type": "markdown",
   "id": "e2fc369e",
   "metadata": {
    "tags": [
     "skip"
    ]
   },
   "source": [
    "Then, let's create a bar chart of the scores by task with a horizontal line for the overall score. Let's save the figure as well to our output directory."
   ]
  },
  {
   "cell_type": "code",
   "execution_count": 45,
   "id": "222356e5",
   "metadata": {
    "tags": [
     "main"
    ]
   },
   "outputs": [
    {
     "data": {
      "image/png": "[encoded data removed]",
      "text/plain": [
       "<Figure size 1000x600 with 1 Axes>"
      ]
     },
     "metadata": {},
     "output_type": "display_data"
    }
   ],
   "source": [
    "# 7.3 Create a bar chart of the scores by task with a horizontal line for the overall score\n",
    "def plot_scores_by_task(task_scores: dict, overall_score: float,imag_path:str) -> None:\n",
    "    tasks = list(task_scores.keys())\n",
    "    scores = list(task_scores.values())\n",
    "\n",
    "    plt.figure(figsize=(10, 6))\n",
    "    plt.barh(tasks, scores, color='skyblue')  # Changed from barh to bar\n",
    "    plt.axvline(overall_score, color='red', linestyle='--', label=f'Overall Score={overall_score}')  # Changed from axvline to axhline\n",
    "    plt.xlabel('Score')  # Changed xlabel to ylabel\n",
    "    plt.title('Scores by Task')\n",
    "    plt.legend()\n",
    "    plt.grid(axis='x')  # Changed from axis='x' to axis='y'\n",
    "    plt.savefig(imag_path)\n",
    "    plt.show()\n",
    "plot_scores_by_task(task_scores, overall_score,imag_path= f\"{DATASET}_scores_by_task.png\")"
   ]
  },
  {
   "cell_type": "code",
   "execution_count": 47,
   "id": "fac9af5a",
   "metadata": {
    "tags": [
     "skip"
    ]
   },
   "outputs": [
    {
     "ename": "TypeError",
     "evalue": "'required' is an invalid argument for positionals",
     "output_type": "error",
     "traceback": [
      "\u001b[31m---------------------------------------------------------------------------\u001b[39m",
      "\u001b[31mTypeError\u001b[39m                                 Traceback (most recent call last)",
      "\u001b[36mCell\u001b[39m\u001b[36m \u001b[39m\u001b[32mIn[47]\u001b[39m\u001b[32m, line 7\u001b[39m\n\u001b[32m      4\u001b[39m \u001b[38;5;28;01mfrom\u001b[39;00m\u001b[38;5;250m \u001b[39m\u001b[34;01mpydantic\u001b[39;00m\u001b[38;5;250m \u001b[39m\u001b[38;5;28;01mimport\u001b[39;00m AnyUrl\n\u001b[32m      6\u001b[39m parser = argparse.ArgumentParser(description=\u001b[33m\"\u001b[39m\u001b[33mgene tuning MLflow.\u001b[39m\u001b[33m\"\u001b[39m)\n\u001b[32m----> \u001b[39m\u001b[32m7\u001b[39m \u001b[43mparser\u001b[49m\u001b[43m.\u001b[49m\u001b[43madd_argument\u001b[49m\u001b[43m(\u001b[49m\n\u001b[32m      8\u001b[39m \u001b[43m    \u001b[49m\u001b[33;43m\"\u001b[39;49m\u001b[33;43mhttp://198.215.61.34:8153/\u001b[39;49m\u001b[33;43m\"\u001b[39;49m\u001b[43m,\u001b[49m\n\u001b[32m      9\u001b[39m \u001b[43m    \u001b[49m\u001b[43mrequired\u001b[49m\u001b[43m=\u001b[49m\u001b[38;5;28;43;01mTrue\u001b[39;49;00m\u001b[43m,\u001b[49m\n\u001b[32m     10\u001b[39m \u001b[43m    \u001b[49m\u001b[43mhelp\u001b[49m\u001b[43m=\u001b[49m\u001b[33;43m\"\u001b[39;49m\u001b[33;43mZimei Chen\u001b[39;49m\u001b[33;43m\"\u001b[39;49m\n\u001b[32m     11\u001b[39m \u001b[43m)\u001b[49m\n\u001b[32m     12\u001b[39m args = parser.parse_args()\n\u001b[32m     13\u001b[39m mlflow_uri = AnyUrl(args.tracking_uri)\n",
      "\u001b[36mFile \u001b[39m\u001b[32m/cm/shared/apps/python/3.11.x-anaconda/lib/python3.11/argparse.py:1432\u001b[39m, in \u001b[36m_ActionsContainer.add_argument\u001b[39m\u001b[34m(self, *args, **kwargs)\u001b[39m\n\u001b[32m   1430\u001b[39m     \u001b[38;5;28;01mif\u001b[39;00m args \u001b[38;5;129;01mand\u001b[39;00m \u001b[33m'\u001b[39m\u001b[33mdest\u001b[39m\u001b[33m'\u001b[39m \u001b[38;5;129;01min\u001b[39;00m kwargs:\n\u001b[32m   1431\u001b[39m         \u001b[38;5;28;01mraise\u001b[39;00m \u001b[38;5;167;01mValueError\u001b[39;00m(\u001b[33m'\u001b[39m\u001b[33mdest supplied twice for positional argument\u001b[39m\u001b[33m'\u001b[39m)\n\u001b[32m-> \u001b[39m\u001b[32m1432\u001b[39m     kwargs = \u001b[38;5;28;43mself\u001b[39;49m\u001b[43m.\u001b[49m\u001b[43m_get_positional_kwargs\u001b[49m\u001b[43m(\u001b[49m\u001b[43m*\u001b[49m\u001b[43margs\u001b[49m\u001b[43m,\u001b[49m\u001b[43m \u001b[49m\u001b[43m*\u001b[49m\u001b[43m*\u001b[49m\u001b[43mkwargs\u001b[49m\u001b[43m)\u001b[49m\n\u001b[32m   1434\u001b[39m \u001b[38;5;66;03m# otherwise, we're adding an optional argument\u001b[39;00m\n\u001b[32m   1435\u001b[39m \u001b[38;5;28;01melse\u001b[39;00m:\n\u001b[32m   1436\u001b[39m     kwargs = \u001b[38;5;28mself\u001b[39m._get_optional_kwargs(*args, **kwargs)\n",
      "\u001b[36mFile \u001b[39m\u001b[32m/cm/shared/apps/python/3.11.x-anaconda/lib/python3.11/argparse.py:1548\u001b[39m, in \u001b[36m_ActionsContainer._get_positional_kwargs\u001b[39m\u001b[34m(self, dest, **kwargs)\u001b[39m\n\u001b[32m   1546\u001b[39m \u001b[38;5;28;01mif\u001b[39;00m \u001b[33m'\u001b[39m\u001b[33mrequired\u001b[39m\u001b[33m'\u001b[39m \u001b[38;5;129;01min\u001b[39;00m kwargs:\n\u001b[32m   1547\u001b[39m     msg = _(\u001b[33m\"\u001b[39m\u001b[33m'\u001b[39m\u001b[33mrequired\u001b[39m\u001b[33m'\u001b[39m\u001b[33m is an invalid argument for positionals\u001b[39m\u001b[33m\"\u001b[39m)\n\u001b[32m-> \u001b[39m\u001b[32m1548\u001b[39m     \u001b[38;5;28;01mraise\u001b[39;00m \u001b[38;5;167;01mTypeError\u001b[39;00m(msg)\n\u001b[32m   1550\u001b[39m \u001b[38;5;66;03m# mark positional arguments as required if at least one is\u001b[39;00m\n\u001b[32m   1551\u001b[39m \u001b[38;5;66;03m# always required\u001b[39;00m\n\u001b[32m   1552\u001b[39m \u001b[38;5;28;01mif\u001b[39;00m kwargs.get(\u001b[33m'\u001b[39m\u001b[33mnargs\u001b[39m\u001b[33m'\u001b[39m) \u001b[38;5;129;01mnot\u001b[39;00m \u001b[38;5;129;01min\u001b[39;00m [OPTIONAL, ZERO_OR_MORE]:\n",
      "\u001b[31mTypeError\u001b[39m: 'required' is an invalid argument for positionals"
     ]
    }
   ],
   "source": [
    "import mlflow\n",
    "import argparse\n",
    "import mlflow\n",
    "from pydantic import AnyUrl\n",
    "\n",
    "parser = argparse.ArgumentParser(description=\"gene tuning MLflow.\")\n",
    "parser.add_argument(\n",
    "    \"http://198.215.61.34:8153/\",\n",
    "    required=True,\n",
    "    help=\"Zimei Chen\"\n",
    ")\n",
    "args = parser.parse_args()\n",
    "mlflow_uri = AnyUrl(args.tracking_uri)\n",
    "\n",
    "# 1 - Tell MLflow where to send data\n",
    "mlflow.set_tracking_uri(str(mlflow_uri))\n",
    "mlflow.set_experiment(args.name)\n",
    "\n",
    "with mlflow.start_run(run_name=\"ipynb_run\") as run:\n",
    "    # Log parameters\n",
    "    \n",
    "    print(f\"Logged to MLflow run → {run.info.run_id}\")\n",
    "    mlflow.log_param(\"num_tasks\",len(task_scores))\n",
    "    \n",
    "    # Log avg_scores as a param (flattened)\n",
    "    for _, row in task_scores.iterrows():\n",
    "        mlflow.log_metric(row[\"task\"], row[\"score\"])\n",
    "\n",
    "    # Plot and save bar chart\n",
    "    imag_path = \"per_task_scores.png\"\n",
    "    plot_scores_by_task(task_scores, overall_score,imag_path)\n",
    "\n",
    "    \n",
    "    plt.savefig(imag_path)\n",
    "    mlflow.log_artifact(imag_path)\n",
    "\n",
    "    # log the csv predictions\n",
    "    mlflow.log_artifact('output/openai_eval.csv')"
   ]
  }
 ],
 "metadata": {
  "kernelspec": {
   "display_name": ".venv",
   "language": "python",
   "name": "python3"
  },
  "language_info": {
   "codemirror_mode": {
    "name": "ipython",
    "version": 3
   },
   "file_extension": ".py",
   "mimetype": "text/x-python",
   "name": "python",
   "nbconvert_exporter": "python",
   "pygments_lexer": "ipython3",
   "version": "3.11.4"
  }
 },
 "nbformat": 4,
 "nbformat_minor": 5
}
